{
 "cells": [
  {
   "cell_type": "code",
   "execution_count": 1,
   "metadata": {},
   "outputs": [],
   "source": [
    "from IPython.core.display import display, HTML\n",
    "from string import Template\n",
    "import pandas as pd\n",
    "import json, random\n",
    "from helpers import *\n",
    "import time\n",
    "from tqdm import tqdm_notebook\n",
    "from fa2 import ForceAtlas2\n",
    "import matplotlib.pyplot as plt\n",
    "from dateutil import relativedelta\n",
    "from datetime import timedelta"
   ]
  },
  {
   "cell_type": "raw",
   "metadata": {},
   "source": [
    "#If data is already saved you can just load\n",
    "a,b,c = load_pkle()"
   ]
  },
  {
   "cell_type": "code",
   "execution_count": 2,
   "metadata": {},
   "outputs": [],
   "source": [
    "articles = pd.read_csv(\"./Data/wikispeedia_paths-and-graph/articles.tsv\",sep='\\t',comment='#',header=None,names=['article'])\n",
    "categories = pd.read_csv(\"./Data/wikispeedia_paths-and-graph/categories.tsv\",sep='\\t',comment='#',header=None,names=['article', 'category'])\n",
    "links = pd.read_csv(\"./Data/wikispeedia_paths-and-graph/links.tsv\",sep='\\t',comment='#',header=None,names=['linkSource', 'linkTarget'])"
   ]
  },
  {
   "cell_type": "markdown",
   "metadata": {},
   "source": [
    "KEEP ONLY SCIENCE ARTICLES"
   ]
  },
  {
   "cell_type": "markdown",
   "metadata": {},
   "source": [
    "code to keep more categories than only science\n",
    "categories_filtered = filterCategories(categories, top = 1)"
   ]
  },
  {
   "cell_type": "markdown",
   "metadata": {},
   "source": [
    "GET SCIENCE.SUB_SUBJECT"
   ]
  },
  {
   "cell_type": "code",
   "execution_count": 3,
   "metadata": {},
   "outputs": [],
   "source": [
    "nodes = filterScienceCategory(categories)"
   ]
  },
  {
   "cell_type": "markdown",
   "metadata": {},
   "source": [
    "GET USER_ACTIVITY"
   ]
  },
  {
   "cell_type": "code",
   "execution_count": 4,
   "metadata": {},
   "outputs": [],
   "source": [
    "s = datetime.datetime(year=2015,month=11,day=1)\n",
    "e = datetime.datetime(year=2018,month=11,day=1)"
   ]
  },
  {
   "cell_type": "code",
   "execution_count": 5,
   "metadata": {},
   "outputs": [
    {
     "data": {
      "application/vnd.jupyter.widget-view+json": {
       "model_id": "379419b1fe7c4c13a399d600548582bb",
       "version_major": 2,
       "version_minor": 0
      },
      "text/plain": [
       "HBox(children=(IntProgress(value=0, max=1105), HTML(value='')))"
      ]
     },
     "metadata": {},
     "output_type": "display_data"
    },
    {
     "name": "stdout",
     "output_type": "stream",
     "text": [
      "drop Arp2_3_complex\n",
      "\n"
     ]
    }
   ],
   "source": [
    "timer = time.localtime(time.time())\n",
    "requests = 0\n",
    "requests_tot = 0\n",
    "granularity = 'monthly'\n",
    "user_activity_dict = {}\n",
    "to_drop = []\n",
    "\n",
    "for index,row in tqdm_notebook(nodes.iterrows(),total = nodes.shape[0]):\n",
    "    requests +=1\n",
    "    requests_tot+=1\n",
    "    values = getUserActivity(article=row['article'],granularity=granularity,start=s,end=e)\n",
    "    \n",
    "    if (len(values) <= int(monthdelta(s,e) - 1) and granularity == 'monthly') or (len(values) <= int((e - s).days) and granularity == 'daily'):\n",
    "            \n",
    "        print(\"drop \" + row['article'])\n",
    "        to_drop.append(index)\n",
    "        nodes.drop(index, inplace=True)\n",
    "        \n",
    "    else:\n",
    "        user_activity_dict[index] = values\n",
    "        \n",
    "    #to fit the limit of 100req/s    \n",
    "    current_time = time.localtime(time.time())\n",
    "    time_elapsed_sec = current_time[5] - timer[5]\n",
    "    time_elapsed_min = current_time[4] - timer[4]\n",
    "    if  time_elapsed_min < 1 and time_elapsed_sec < 0 and requests >= 100:\n",
    "        time.sleep(max(time_elapsed_sec,0))\n",
    "        timer = time.localtime(time.time())\n",
    "        requests = 0\n",
    "    elif time_elapsed_min >= 1 and time_elapsed_sec >=0:\n",
    "        timer = time.localtime(time.time())\n",
    "        requests = 0"
   ]
  },
  {
   "cell_type": "code",
   "execution_count": 6,
   "metadata": {},
   "outputs": [],
   "source": [
    "nodes, edges = iterative_filter(nodes,links)"
   ]
  },
  {
   "cell_type": "code",
   "execution_count": 7,
   "metadata": {},
   "outputs": [
    {
     "data": {
      "text/plain": [
       "1097"
      ]
     },
     "execution_count": 7,
     "metadata": {},
     "output_type": "execute_result"
    }
   ],
   "source": [
    "len(nodes)"
   ]
  },
  {
   "cell_type": "code",
   "execution_count": 8,
   "metadata": {},
   "outputs": [
    {
     "data": {
      "text/plain": [
       "13971"
      ]
     },
     "execution_count": 8,
     "metadata": {},
     "output_type": "execute_result"
    }
   ],
   "source": [
    "len(edges)"
   ]
  },
  {
   "cell_type": "code",
   "execution_count": 8,
   "metadata": {},
   "outputs": [],
   "source": [
    "user_activity_df = create_df_activity(user_activity_dict)"
   ]
  },
  {
   "cell_type": "code",
   "execution_count": 9,
   "metadata": {},
   "outputs": [],
   "source": [
    "normalized_user_activity_df = normalize_activity(user_activity_df, factor=40, byColumn=False)"
   ]
  },
  {
   "cell_type": "code",
   "execution_count": 10,
   "metadata": {},
   "outputs": [],
   "source": [
    "# Create dataframe that contain the mean of each line\n",
    "user_activity_df_mean = normalized_user_activity_df.copy()\n",
    "user_activity_df_mean['mean'] = user_activity_df_mean.mean(axis=1)\n",
    "user_activity_df_mean['std'] = normalized_user_activity_df.std(axis=1)"
   ]
  },
  {
   "cell_type": "markdown",
   "metadata": {},
   "source": [
    "CREATE GRAPH"
   ]
  },
  {
   "cell_type": "code",
   "execution_count": 11,
   "metadata": {},
   "outputs": [],
   "source": [
    "G = createGraph(nodes, edges)"
   ]
  },
  {
   "cell_type": "code",
   "execution_count": 12,
   "metadata": {},
   "outputs": [
    {
     "data": {
      "text/plain": [
       "True"
      ]
     },
     "execution_count": 12,
     "metadata": {},
     "output_type": "execute_result"
    }
   ],
   "source": [
    "len(nodes) == len(G.nodes)"
   ]
  },
  {
   "cell_type": "markdown",
   "metadata": {},
   "source": [
    "COMPUTE POSITIONS"
   ]
  },
  {
   "cell_type": "code",
   "execution_count": 13,
   "metadata": {},
   "outputs": [],
   "source": [
    "#positions = layout(G, algorithm='kamada_kawai')\n",
    "positions = nx.kamada_kawai_layout(G)\n",
    "#nodes = nodes.set_index('article')\n",
    "#nodes['coord'] = pd.Series(positions,index=nodes.index)"
   ]
  },
  {
   "cell_type": "code",
   "execution_count": 14,
   "metadata": {},
   "outputs": [],
   "source": [
    "x_mean = 0\n",
    "y_mean = 0\n",
    "x_std = 0\n",
    "y_std = 0\n",
    "for k,pos in positions.items():\n",
    "    x_mean += pos[0]\n",
    "    y_mean += pos[1]\n",
    "x_mean /= len(positions)\n",
    "y_mean /= len(positions)\n",
    "\n",
    "for k,pos in positions.items():\n",
    "    x_std += abs(pos[0]-x_mean)\n",
    "    y_std += abs(pos[1]-y_mean)\n",
    "\n",
    "x_std = np.sqrt(x_std/len(positions))\n",
    "y_std = np.sqrt(y_std/len(positions))"
   ]
  },
  {
   "cell_type": "code",
   "execution_count": 15,
   "metadata": {},
   "outputs": [],
   "source": [
    "nodes['coord'] = nodes['article'].map(positions)"
   ]
  },
  {
   "cell_type": "markdown",
   "metadata": {},
   "source": [
    "COMPUTE COLORS"
   ]
  },
  {
   "cell_type": "code",
   "execution_count": 16,
   "metadata": {},
   "outputs": [],
   "source": [
    "color_dict = create_color(nodes)"
   ]
  },
  {
   "cell_type": "markdown",
   "metadata": {},
   "source": [
    "Add linkSource category to each edges to further compute color"
   ]
  },
  {
   "cell_type": "code",
   "execution_count": 17,
   "metadata": {},
   "outputs": [],
   "source": [
    "edges = pd.merge(edges,nodes,left_on='linkSource',right_on='article',how='left')"
   ]
  },
  {
   "cell_type": "code",
   "execution_count": 18,
   "metadata": {},
   "outputs": [],
   "source": [
    "edges = edges.drop(labels=['article'],axis= 1)"
   ]
  },
  {
   "cell_type": "code",
   "execution_count": 19,
   "metadata": {},
   "outputs": [],
   "source": [
    "edges['color'] = edges.category.apply(lambda x : \"rgba\"+str(color_dict[x]).replace(' ',''))\n",
    "nodes['color'] = nodes.category.apply(lambda x : \"rgba\"+str(color_dict[x]).replace(' ',''))"
   ]
  },
  {
   "cell_type": "markdown",
   "metadata": {},
   "source": [
    "COMPUTE SPANISH"
   ]
  },
  {
   "cell_type": "code",
   "execution_count": 21,
   "metadata": {},
   "outputs": [
    {
     "data": {
      "application/vnd.jupyter.widget-view+json": {
       "model_id": "03d7ca37f3f6458399c0f752ab771693",
       "version_major": 2,
       "version_minor": 0
      },
      "text/plain": [
       "HBox(children=(IntProgress(value=0, max=1097), HTML(value='')))"
      ]
     },
     "metadata": {},
     "output_type": "display_data"
    },
    {
     "name": "stdout",
     "output_type": "stream",
     "text": [
      "\n"
     ]
    }
   ],
   "source": [
    "timer = time.localtime(time.time())\n",
    "requests_ = 0\n",
    "requests_tot = 0\n",
    "language_code = \"es\"\n",
    "lang_dict = {}\n",
    "user_activity_dict_es = {}\n",
    "\n",
    "for index,row in tqdm_notebook(nodes.iterrows(),total = nodes.shape[0]):\n",
    "    requests_ +=2\n",
    "    requests_tot+=2\n",
    "    new_title = getArticleName(row['article'],language_code)\n",
    "    found = False\n",
    "    if new_title != \"\":\n",
    "        values = getUserActivity(article=new_title,project=language_code+\".wikipedia.org\",granularity=granularity,start=s,end=e)\n",
    "        if not((len(values) <= int(monthdelta(s,e) - 1) and granularity == 'monthly') or (len(values) <= int((e - s).days) and granularity == 'daily')):\n",
    "            user_activity_dict_es[index] = values\n",
    "            lang_dict[row['article']] = new_title\n",
    "            found = True\n",
    "    \n",
    "    if not found:\n",
    "        lang_dict[row['article']] = \"unknown\"\n",
    "   "
   ]
  },
  {
   "cell_type": "code",
   "execution_count": 22,
   "metadata": {},
   "outputs": [],
   "source": [
    "nodes['article_'+language_code] = nodes['article'].map(lang_dict)"
   ]
  },
  {
   "cell_type": "code",
   "execution_count": 23,
   "metadata": {},
   "outputs": [],
   "source": [
    "user_activity_df_es = create_df_activity(user_activity_dict_es)"
   ]
  },
  {
   "cell_type": "code",
   "execution_count": 24,
   "metadata": {},
   "outputs": [],
   "source": [
    "normalized_user_activity_df_es = normalize_activity(user_activity_df_es, factor=40, byColumn=False)"
   ]
  },
  {
   "cell_type": "code",
   "execution_count": 25,
   "metadata": {},
   "outputs": [],
   "source": [
    "user_activity_df_mean_es = normalized_user_activity_df_es.copy()\n",
    "user_activity_df_mean_es['mean'] = user_activity_df_mean_es.mean(axis=1)\n",
    "user_activity_df_mean_es['std'] = normalized_user_activity_df_es.std(axis=1)"
   ]
  },
  {
   "cell_type": "code",
   "execution_count": null,
   "metadata": {},
   "outputs": [],
   "source": []
  },
  {
   "cell_type": "markdown",
   "metadata": {},
   "source": [
    "CONSTRUCT FINAL JSON"
   ]
  },
  {
   "cell_type": "code",
   "execution_count": null,
   "metadata": {},
   "outputs": [],
   "source": []
  },
  {
   "cell_type": "raw",
   "metadata": {},
   "source": [
    "user_activity_df.to_pickle(\"./Data/wikispeedia_paths-and-graph/activity_\"+s.strftime(\"%Y-%m-%d\")+\"_\"+e.strftime(\"%Y-%m-%d\")+\"_\"+granularity+\".pkle\")"
   ]
  },
  {
   "cell_type": "raw",
   "metadata": {},
   "source": [
    "user_activity_df = pd.read_pickle(\"./Data/wikispeedia_paths-and-graph/activity_\"+s.strftime(\"%Y-%m-%d\")+\"_\"+e.strftime(\"%Y-%m-%d\")+\"_\"+granularity+\".pkle\")"
   ]
  },
  {
   "cell_type": "code",
   "execution_count": null,
   "metadata": {},
   "outputs": [],
   "source": []
  },
  {
   "cell_type": "code",
   "execution_count": 26,
   "metadata": {},
   "outputs": [],
   "source": [
    "def parse_article_title(title):\n",
    "    return urllib.parse.unquote(title).replace('_',' ')\n",
    "def parse_color(color):\n",
    "    return \"rgba\"+str(color).replace(' ','')"
   ]
  },
  {
   "cell_type": "code",
   "execution_count": 32,
   "metadata": {},
   "outputs": [],
   "source": [
    "graph_data = { 'nodes': [], 'edges': [] }\n",
    "\n",
    "for i,row in nodes.iterrows():\n",
    "    \n",
    "    x,y = w_stye_coordinate()\n",
    "    \n",
    "    to_be_added = {}\n",
    "    for j in range(len(normalized_user_activity_df.loc[i])):\n",
    "        to_be_added[str(j)+\"_size\"] = normalized_user_activity_df.loc[i][j]\n",
    "        if row['article_es'] != \"unknown\":\n",
    "            to_be_added[str(j)+\"_size_fr\"] = normalized_user_activity_df_es.loc[i][j]\n",
    "        #to_be_added[str(activity_ind)+\"_size\"] = 0 if(elem[0]<=0) else(np.log(elem[0]))\n",
    "    to_be_added['label'] = parse_article_title(row['article'])\n",
    "    to_be_added['label_en'] = parse_article_title(row['article'])\n",
    "    to_be_added['label_fr'] = parse_article_title(row['article_es'])\n",
    "    to_be_added['x'] = x\n",
    "    to_be_added[\"y\"] = y\n",
    "    to_be_added[\"id\"]= row['article']\n",
    "    to_be_added['id_en'] = parse_article_title(row['article'])\n",
    "    to_be_added['id_fr'] = parse_article_title(row['article_es'])\n",
    "    to_be_added[\"attributes\"]= {\"category\":row['category']}\n",
    "    to_be_added[\"user_activity\"]= user_activity_dict[i]\n",
    "    if row['article_es'] != \"unknown\":\n",
    "        to_be_added[\"user_activity_fr\"]= user_activity_dict_es[i]\n",
    "        to_be_added[\"activity_mean_fr\"]= user_activity_df_mean_es.loc[i]['mean']\n",
    "        to_be_added[\"activity_std_fr\"]= user_activity_df_mean_es.loc[i]['std']\n",
    "    to_be_added[\"color\"]= 'rgb(30,30,30)'\n",
    "    to_be_added[\"originalColor\"]= row['color']\n",
    "    #\"size\": 0 if(user_activity_dict[i][0][0]==0) else (np.log(user_activity_dict[i][0][0]))\n",
    "    to_be_added[\"size\"]= 10\n",
    "    to_be_added[\"square_x\"]= x\n",
    "    to_be_added[\"square_y\"]= y\n",
    "    to_be_added[\"square_size\"]= 10\n",
    "    to_be_added[\"square_color\"]= 'rgb(30,30,30)'\n",
    "    to_be_added[\"correct_x\"]= row['coord'][0]\n",
    "    to_be_added[\"correct_y\"]= row['coord'][1]\n",
    "    to_be_added[\"correct_size\"]= normalized_user_activity_df.loc[i][0]\n",
    "    to_be_added[\"correct_color\"]= row['color']\n",
    "    to_be_added[\"activity_mean\"]= user_activity_df_mean.loc[i]['mean']  \n",
    "    to_be_added[\"activity_std\"]= user_activity_df_mean.loc[i]['std']\n",
    "    graph_data['nodes'].append(to_be_added)\n",
    "\n",
    "for i,row in edges.iterrows():\n",
    "    graph_data['edges'].append({\n",
    "            \"id\": str(i),\n",
    "            \"source\": row['linkSource'],\n",
    "            \"target\": row['linkTarget'],\n",
    "            \"attributes\" : {},\n",
    "            \"color\": row['color'],\n",
    "            \"originalColor\": row['color'],\n",
    "            #\"color\": \"rgb(30,30,30)\",\n",
    "            #\"originalColor\": \"rgb(30,30,30)\",\n",
    "            \"size\": 0.1,\n",
    "            \"type\": 'curve'\n",
    "        })"
   ]
  },
  {
   "cell_type": "code",
   "execution_count": 33,
   "metadata": {},
   "outputs": [],
   "source": [
    "save_graph_json('../raffiot.github.io/raffiot.github.io/wikispedia/wikispedia_en_es.json',graph_data)"
   ]
  },
  {
   "cell_type": "code",
   "execution_count": null,
   "metadata": {},
   "outputs": [],
   "source": [
    "save_pkle(user_activity_df, nodes, edges)"
   ]
  },
  {
   "cell_type": "code",
   "execution_count": null,
   "metadata": {},
   "outputs": [],
   "source": []
  }
 ],
 "metadata": {
  "kernelspec": {
   "display_name": "Python 3",
   "language": "python",
   "name": "python3"
  },
  "language_info": {
   "codemirror_mode": {
    "name": "ipython",
    "version": 3
   },
   "file_extension": ".py",
   "mimetype": "text/x-python",
   "name": "python",
   "nbconvert_exporter": "python",
   "pygments_lexer": "ipython3",
   "version": "3.6.6"
  },
  "toc": {
   "nav_menu": {},
   "number_sections": true,
   "sideBar": true,
   "skip_h1_title": false,
   "title_cell": "Table of Contents",
   "title_sidebar": "Contents",
   "toc_cell": false,
   "toc_position": {},
   "toc_section_display": true,
   "toc_window_display": false
  }
 },
 "nbformat": 4,
 "nbformat_minor": 2
}
