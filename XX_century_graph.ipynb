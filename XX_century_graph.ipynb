{
 "cells": [
  {
   "cell_type": "code",
   "execution_count": 1,
   "metadata": {},
   "outputs": [],
   "source": [
    "import pandas as pd\n",
    "import json, random\n",
    "from helpers import *\n",
    "import time\n",
    "from tqdm import tqdm_notebook\n",
    "from fa2 import ForceAtlas2\n",
    "import matplotlib.pyplot as plt\n",
    "from dateutil import relativedelta\n",
    "from datetime import timedelta\n",
    "import glob\n",
    "from fa2l import force_atlas2_layout"
   ]
  },
  {
   "cell_type": "markdown",
   "metadata": {},
   "source": [
    "# Load pages and categories"
   ]
  },
  {
   "cell_type": "raw",
   "metadata": {},
   "source": [
    "path ='./Data/normal_pages' # use your path\n",
    "allFiles = glob.glob(path + \"/*.csv\")\n",
    "\n",
    "list_ = []\n",
    "\n",
    "for file_ in allFiles:\n",
    "    df = pd.read_csv(file_,sep ='\\t',index_col='id',comment='#',names=['id','article','isRedirect','isNew'], header=None)\n",
    "    list_.append(df)\n",
    "\n",
    "normal_pages = pd.concat(list_, axis = 0)\n",
    "\n",
    "path ='./Data/category_pages' # use your path\n",
    "allFiles = glob.glob(path + \"/*.csv\")\n",
    "\n",
    "list_ = []\n",
    "\n",
    "for file_ in allFiles:\n",
    "    df = pd.read_csv(file_,sep ='\\t',index_col=0,comment='#',names=['id','aticle','isRedirect','isNew'], header=None)\n",
    "    list_.append(df)\n",
    "\n",
    "category_pages = pd.concat(list_, axis = 0)"
   ]
  },
  {
   "cell_type": "code",
   "execution_count": 2,
   "metadata": {},
   "outputs": [],
   "source": [
    "normal_pages = pd.read_pickle(\"./Data/normal_pages/normal_pages.pkle\")"
   ]
  },
  {
   "cell_type": "markdown",
   "metadata": {},
   "source": [
    "category_pages = pd.read_pickle(\"./Data/category_pages/category_pages.pkle\")"
   ]
  },
  {
   "cell_type": "markdown",
   "metadata": {},
   "source": [
    "normal_pages.to_pickle(\"./Data/normal_pages/normal_pages.pkle\")"
   ]
  },
  {
   "cell_type": "markdown",
   "metadata": {},
   "source": [
    "category_pages.to_pickle(\"./Data/category_pages/category_pages.pkle\")"
   ]
  },
  {
   "cell_type": "code",
   "execution_count": 4,
   "metadata": {},
   "outputs": [
    {
     "data": {
      "text/plain": [
       "14050827"
      ]
     },
     "execution_count": 4,
     "metadata": {},
     "output_type": "execute_result"
    }
   ],
   "source": [
    "len(normal_pages)"
   ]
  },
  {
   "cell_type": "markdown",
   "metadata": {},
   "source": [
    "# Load links"
   ]
  },
  {
   "cell_type": "code",
   "execution_count": 5,
   "metadata": {},
   "outputs": [],
   "source": [
    "links = pd.read_csv(\"./Data/XX_century/edges_20c.csv\",sep='\\t',comment='#',header=0,names=['linkSource', 'rel','linkTarget'],dtype=str)"
   ]
  },
  {
   "cell_type": "markdown",
   "metadata": {},
   "source": [
    "## Filter links if they don't link pages (they link categories)"
   ]
  },
  {
   "cell_type": "code",
   "execution_count": 6,
   "metadata": {},
   "outputs": [],
   "source": [
    "links_copy = links.copy()"
   ]
  },
  {
   "cell_type": "code",
   "execution_count": 7,
   "metadata": {
    "scrolled": false
   },
   "outputs": [
    {
     "data": {
      "application/vnd.jupyter.widget-view+json": {
       "model_id": "f8b4b44d358b464eaf176a41dfcff82d",
       "version_major": 2,
       "version_minor": 0
      },
      "text/plain": [
       "HBox(children=(IntProgress(value=0, max=31055), HTML(value='')))"
      ]
     },
     "metadata": {},
     "output_type": "display_data"
    },
    {
     "name": "stdout",
     "output_type": "stream",
     "text": [
      "\n"
     ]
    }
   ],
   "source": [
    "indexes_to_drop = []\n",
    "for i,row in tqdm_notebook(links_copy.iterrows(),total = links_copy.shape[0]):\n",
    "    if int(row['linkSource']) in normal_pages.index and int(row['linkTarget']) in normal_pages.index:\n",
    "        links_copy.at[i,'linkSource'] = normal_pages.loc[int(row['linkSource'])]['article']\n",
    "        links_copy.at[i,'linkTarget'] = normal_pages.loc[int(row['linkTarget'])]['article']\n",
    "    else:\n",
    "        indexes_to_drop.append(i)\n",
    "        \n",
    "links_copy = links_copy.drop(links_copy.index[indexes_to_drop])"
   ]
  },
  {
   "cell_type": "markdown",
   "metadata": {},
   "source": [
    "#Drop 'BELONGS_TO' link"
   ]
  },
  {
   "cell_type": "code",
   "execution_count": 8,
   "metadata": {},
   "outputs": [],
   "source": [
    "links_copy = links_copy.loc[links['rel'] != 'BELONGS_TO']"
   ]
  },
  {
   "cell_type": "code",
   "execution_count": 9,
   "metadata": {},
   "outputs": [],
   "source": [
    "links_copy = links_copy.loc[links['linkSource'] != links['linkTarget']]"
   ]
  },
  {
   "cell_type": "code",
   "execution_count": 10,
   "metadata": {},
   "outputs": [
    {
     "data": {
      "text/html": [
       "<div>\n",
       "<style scoped>\n",
       "    .dataframe tbody tr th:only-of-type {\n",
       "        vertical-align: middle;\n",
       "    }\n",
       "\n",
       "    .dataframe tbody tr th {\n",
       "        vertical-align: top;\n",
       "    }\n",
       "\n",
       "    .dataframe thead th {\n",
       "        text-align: right;\n",
       "    }\n",
       "</style>\n",
       "<table border=\"1\" class=\"dataframe\">\n",
       "  <thead>\n",
       "    <tr style=\"text-align: right;\">\n",
       "      <th></th>\n",
       "      <th>linkSource</th>\n",
       "      <th>rel</th>\n",
       "      <th>linkTarget</th>\n",
       "    </tr>\n",
       "  </thead>\n",
       "  <tbody>\n",
       "    <tr>\n",
       "      <th>42</th>\n",
       "      <td>List_of_Washington_Redskins_name_change_advocates</td>\n",
       "      <td>LINKS_TO</td>\n",
       "      <td>Washington_Redskins_name_opinion_polls</td>\n",
       "    </tr>\n",
       "    <tr>\n",
       "      <th>43</th>\n",
       "      <td>List_of_Washington_Redskins_name_change_advocates</td>\n",
       "      <td>LINKS_TO</td>\n",
       "      <td>Washington_Redskins_name_controversy</td>\n",
       "    </tr>\n",
       "    <tr>\n",
       "      <th>46</th>\n",
       "      <td>Is_the_Holocaust_Unique?</td>\n",
       "      <td>LINKS_TO</td>\n",
       "      <td>The_Holocaust</td>\n",
       "    </tr>\n",
       "    <tr>\n",
       "      <th>205</th>\n",
       "      <td>Washington_Redskins_name_controversy</td>\n",
       "      <td>LINKS_TO</td>\n",
       "      <td>Washington_Redskins_name_opinion_polls</td>\n",
       "    </tr>\n",
       "    <tr>\n",
       "      <th>206</th>\n",
       "      <td>Washington_Redskins_name_controversy</td>\n",
       "      <td>LINKS_TO</td>\n",
       "      <td>List_of_Washington_Redskins_name_change_advocates</td>\n",
       "    </tr>\n",
       "  </tbody>\n",
       "</table>\n",
       "</div>"
      ],
      "text/plain": [
       "                                            linkSource       rel  \\\n",
       "42   List_of_Washington_Redskins_name_change_advocates  LINKS_TO   \n",
       "43   List_of_Washington_Redskins_name_change_advocates  LINKS_TO   \n",
       "46                            Is_the_Holocaust_Unique?  LINKS_TO   \n",
       "205               Washington_Redskins_name_controversy  LINKS_TO   \n",
       "206               Washington_Redskins_name_controversy  LINKS_TO   \n",
       "\n",
       "                                            linkTarget  \n",
       "42              Washington_Redskins_name_opinion_polls  \n",
       "43                Washington_Redskins_name_controversy  \n",
       "46                                       The_Holocaust  \n",
       "205             Washington_Redskins_name_opinion_polls  \n",
       "206  List_of_Washington_Redskins_name_change_advocates  "
      ]
     },
     "execution_count": 10,
     "metadata": {},
     "output_type": "execute_result"
    }
   ],
   "source": [
    "links_copy.head()"
   ]
  },
  {
   "cell_type": "markdown",
   "metadata": {},
   "source": [
    "## Filter normal pages if they are redirect"
   ]
  },
  {
   "cell_type": "code",
   "execution_count": 11,
   "metadata": {},
   "outputs": [],
   "source": [
    "normal_pages_copy = normal_pages.copy()"
   ]
  },
  {
   "cell_type": "code",
   "execution_count": 12,
   "metadata": {},
   "outputs": [],
   "source": [
    "normal_pages_copy = normal_pages_copy.loc[normal_pages_copy['isRedirect'] == False]"
   ]
  },
  {
   "cell_type": "markdown",
   "metadata": {},
   "source": [
    "## First iterative filter to reduce further number of request"
   ]
  },
  {
   "cell_type": "code",
   "execution_count": 13,
   "metadata": {},
   "outputs": [],
   "source": [
    "filtered_pages, filtered_links = iterative_filter(normal_pages_copy,links_copy)"
   ]
  },
  {
   "cell_type": "code",
   "execution_count": 14,
   "metadata": {},
   "outputs": [
    {
     "data": {
      "text/plain": [
       "12221"
      ]
     },
     "execution_count": 14,
     "metadata": {},
     "output_type": "execute_result"
    }
   ],
   "source": [
    "len(filtered_links)"
   ]
  },
  {
   "cell_type": "markdown",
   "metadata": {},
   "source": [
    "## Request to get article activity"
   ]
  },
  {
   "cell_type": "code",
   "execution_count": 15,
   "metadata": {},
   "outputs": [],
   "source": [
    "s = datetime.datetime(year=2015,month=11,day=1)\n",
    "e = datetime.datetime(year=2018,month=11,day=1)"
   ]
  },
  {
   "cell_type": "code",
   "execution_count": 16,
   "metadata": {
    "scrolled": true
   },
   "outputs": [
    {
     "data": {
      "application/vnd.jupyter.widget-view+json": {
       "model_id": "ac3c29de82194619a9cca68a5a9017f3",
       "version_major": 2,
       "version_minor": 0
      },
      "text/plain": [
       "HBox(children=(IntProgress(value=0, max=931), HTML(value='')))"
      ]
     },
     "metadata": {},
     "output_type": "display_data"
    },
    {
     "name": "stdout",
     "output_type": "stream",
     "text": [
      "drop Radio_Free_Europe/Radio_Liberty\n",
      "drop Treaty_establishing_the_European_Defence_Community\n",
      "drop Lists_of_protests_against_the_Vietnam_War\n",
      "drop List_of_state_visits_made_by_Elizabeth_II\n",
      "drop List_of_Commonwealth_visits_made_by_Elizabeth_II\n",
      "drop Expo_\\'74\n",
      "drop Khmer_People\\'s_National_Liberation_Front\n",
      "drop Epidemiology_of_HIV/AIDS\n",
      "drop Amakasu_incident\n",
      "drop Women\\'s_War\n",
      "drop Service_d\\'Action_Civique\n",
      "drop Nagaland_conflict\n",
      "drop List_of_fascist_movements\n",
      "drop Mariner\\'s_cap\n",
      "drop Communist_insurgency_in_Malaysia_(1968–89)\n",
      "drop Cyprus_crisis_(1955–64)\n",
      "drop Popular_music_in_Yugoslavia\n",
      "drop A-line_(clothing)\n",
      "drop Kurdish–Turkish_conflict_(1978–present)\n",
      "drop History_of_science_and_technology_in_the_People\\'s_Republic_of_China\n",
      "drop CPP–NPA–NDF_rebellion\n",
      "drop Asturian_miners\\'_strike_of_1934\n",
      "drop Orwell\\'s_list\n",
      "drop Khmer_People\\'s_National_Liberation_Armed_Forces\n",
      "drop United_Nations_General_Assembly_Fourth_Committee\n",
      "drop Is_the_Holocaust_Unique?\n",
      "drop Wedding_of_Prince_Charles_and_Lady_Diana_Spencer\n",
      "drop List_of_manned_Mars_mission_plans\n",
      "drop Patagonia_Rebelde\n",
      "drop Wedding_of_Princess_Elizabeth_and_Philip_Mountbatten\n",
      "drop Wedding_of_Prince_Edward_and_Sophie_Rhys-Jones\n",
      "drop Wedding_of_Princess_Anne_and_Mark_Phillips\n",
      "drop Women\\'s_oversized_fashion_in_the_United_States_since_the_1920s\n",
      "drop Wedding_of_Prince_Andrew_and_Sarah_Ferguson\n",
      "drop Somali-Kenyan_conflict\n",
      "drop List_of_Legionnaires\\'_disease_outbreaks\n",
      "drop Communist_insurgency_in_Sarawak\n",
      "drop European_interwar_economy\n",
      "drop Mekong_expedition_of_1866–1868\n",
      "drop Darul_Islam_rebellion\n",
      "drop The_Seventies_(miniseries)\n",
      "drop Kameido_incident\n",
      "drop The_Sixties_(miniseries)\n",
      "drop Mao_Bangchu\n",
      "drop Colonial_Conquest\n",
      "drop Communist_insurgency_in_Myanmar\n",
      "drop List_of_early_webcomics\n",
      "drop No_Place_of_Grace\n",
      "drop Bodycon_dress\n",
      "drop The_Eighties_(miniseries)\n",
      "drop Direct_colonial_rule\n",
      "drop 1972–1975_Bangladesh_insurgency\n",
      "drop The_Nineties_(miniseries)\n",
      "drop Interwar_Britain\n",
      "drop Diana_Slip\n",
      "drop Yva_Richard\n",
      "drop Operation_Legacy\n",
      "drop Washington_Redskins_name_opinion_polls\n",
      "drop French_(tunic)\n",
      "drop Operation_Lion_(1942)\n",
      "drop Operation_Apricot\n",
      "drop Malela_Jeev\n",
      "drop Manvini_Bhavai\n",
      "drop Operation_Parsnip\n",
      "drop Operation_Prawn\n",
      "drop Operation_Firetree\n",
      "drop Operation_Inco_I\n",
      "drop Operation_Crayfish\n",
      "drop Fero_(novel)\n",
      "drop United_States_gubernatorial_elections,_1958\n",
      "drop List_of_governors_of_dependent_territories_in_the_20th_century\n",
      "drop Oromo_conflict\n",
      "drop Chhinnapatra\n",
      "drop Maranottar\n",
      "drop New_Caledonian_independence_referendum,_2018\n",
      "drop United_States_gubernatorial_elections,_1959\n",
      "drop Swapnatirtha\n",
      "drop International_relations_(1919–1939)\n",
      "drop Risky_sexual_behavior\n",
      "drop Conventions_of_La_Marsa\n",
      "drop 1931_Cyprus_revolt\n",
      "drop Poso_riots\n",
      "drop 1998_Monrovia_clashes\n",
      "drop Battle_of_Durrës_(1939)\n",
      "drop Emirate_of_Abdelkader\n",
      "drop Bougainvillean_independence_referendum,_2019\n",
      "drop Joint_Operation_Arvand\n",
      "drop KDPI–Komala_conflict\n",
      "drop Wedding_of_Prince_Edward,_Duke_of_Windsor,_and_Wallis_Simpson\n",
      "drop Henriette_Negrin\n",
      "drop Slovo_Building\n",
      "drop SSK_90_helmet\n",
      "drop 20th_century_in_science\n",
      "drop International_Festival_of_Kraków_Composers\n",
      "drop Black_Horror_on_the_Rhine\n",
      "drop Ame_Badha\n",
      "drop Kasenkina_Case\n",
      "drop Bhadrambhadra\n",
      "drop International_Decade_for_the_Eradication_of_Colonialism\n",
      "\n"
     ]
    }
   ],
   "source": [
    "timer = time.localtime(time.time())\n",
    "requests = 0\n",
    "requests_tot = 0\n",
    "granularity = 'monthly'\n",
    "user_activity_dict = {}\n",
    "to_drop = []\n",
    "\n",
    "for index,row in tqdm_notebook(filtered_pages.iterrows(),total = filtered_pages.shape[0]):\n",
    "    requests +=1\n",
    "    requests_tot+=1\n",
    "    values = getUserActivity(article=row['article'],granularity=granularity,start=s,end=e)\n",
    "    \n",
    "    if (len(values) <= int(monthdelta(s,e) - 1) and granularity == 'monthly') or (len(values) <= int((e - s).days) and granularity == 'daily'):\n",
    "            \n",
    "        print(\"drop \"+ row['article'])\n",
    "        to_drop.append(index)\n",
    "        filtered_pages.drop(index, inplace=True)\n",
    "        \n",
    "    else:\n",
    "        user_activity_dict[index] = values\n",
    "        \n",
    "    #to fit the limit of 100req/s    \n",
    "    current_time = time.localtime(time.time())\n",
    "    time_elapsed_sec = current_time[5] - timer[5]\n",
    "    time_elapsed_min = current_time[4] - timer[4]\n",
    "    if  time_elapsed_min < 1 and time_elapsed_sec < 0 and requests >= 100:\n",
    "        time.sleep(max(time_elapsed_sec,0))\n",
    "        timer = time.localtime(time.time())\n",
    "        requests = 0\n",
    "    elif time_elapsed_min >= 1 and time_elapsed_sec >=0:\n",
    "        timer = time.localtime(time.time())\n",
    "        requests = 0"
   ]
  },
  {
   "cell_type": "code",
   "execution_count": 17,
   "metadata": {},
   "outputs": [],
   "source": [
    "filtered_pages, filtered_links = iterative_filter(filtered_pages,filtered_links)"
   ]
  },
  {
   "cell_type": "code",
   "execution_count": 18,
   "metadata": {},
   "outputs": [
    {
     "data": {
      "text/plain": [
       "array(['List_of_Washington_Redskins_name_change_advocates', 'LINKS_TO',\n",
       "       'Washington_Redskins_name_controversy'], dtype=object)"
      ]
     },
     "execution_count": 18,
     "metadata": {},
     "output_type": "execute_result"
    }
   ],
   "source": [
    "filtered_links.loc[43].values"
   ]
  },
  {
   "cell_type": "code",
   "execution_count": 19,
   "metadata": {},
   "outputs": [
    {
     "data": {
      "text/plain": [
       "11289"
      ]
     },
     "execution_count": 19,
     "metadata": {},
     "output_type": "execute_result"
    }
   ],
   "source": [
    "len(filtered_links)"
   ]
  },
  {
   "cell_type": "code",
   "execution_count": 20,
   "metadata": {},
   "outputs": [
    {
     "data": {
      "text/plain": [
       "823"
      ]
     },
     "execution_count": 20,
     "metadata": {},
     "output_type": "execute_result"
    }
   ],
   "source": [
    "len(filtered_pages)"
   ]
  },
  {
   "cell_type": "markdown",
   "metadata": {},
   "source": [
    "## Create Graph"
   ]
  },
  {
   "cell_type": "code",
   "execution_count": 20,
   "metadata": {},
   "outputs": [],
   "source": [
    "def createGraph20(nodes, edges):\n",
    "    \"\"\"\n",
    "    Method to create a networkx directed graph from articles node already filtered in categories_filtered\n",
    "    articles: the wikipedia articles in dataframe ['article']\n",
    "\n",
    "    categories_filtered: wikipedia articles with their category ['article','categories_filtered'] where 'article' is the index\n",
    "    categories_filtered have to contain only the node with category you want to appear on the graph.\n",
    "\n",
    "    links: the hyperlinks between wikipedia articles in form ['linkSource', 'linkTarget']\n",
    "\n",
    "    return newly created networkx.DiGraph\n",
    "    \"\"\"\n",
    "\n",
    "    #Create graph with networkx\n",
    "    tup = [[x[0],x[2]] for x in edges.values]\n",
    "    G = nx.Graph()\n",
    "    G.add_edges_from(tup)\n",
    "    return G"
   ]
  },
  {
   "cell_type": "code",
   "execution_count": 21,
   "metadata": {},
   "outputs": [],
   "source": [
    "G = createGraph20(filtered_pages, filtered_links)"
   ]
  },
  {
   "cell_type": "markdown",
   "metadata": {},
   "source": [
    "# Color from community detection"
   ]
  },
  {
   "cell_type": "code",
   "execution_count": 22,
   "metadata": {},
   "outputs": [],
   "source": [
    "from networkx.algorithms.community import k_clique_communities,girvan_newman\n",
    "from networkx.algorithms.community import greedy_modularity_communities, label_propagation_communities"
   ]
  },
  {
   "cell_type": "code",
   "execution_count": 23,
   "metadata": {},
   "outputs": [],
   "source": [
    "clique = list(greedy_modularity_communities(G))"
   ]
  },
  {
   "cell_type": "code",
   "execution_count": 24,
   "metadata": {},
   "outputs": [
    {
     "data": {
      "text/plain": [
       "25"
      ]
     },
     "execution_count": 24,
     "metadata": {},
     "output_type": "execute_result"
    }
   ],
   "source": [
    "len(clique)"
   ]
  },
  {
   "cell_type": "code",
   "execution_count": 25,
   "metadata": {},
   "outputs": [],
   "source": [
    "buckets = len(clique)\n",
    "cmap=plt.cm.get_cmap('Dark2')\n",
    "color_dict = {}\n",
    "color_dict_edge = {}\n",
    "for i,row in filtered_pages.iterrows():\n",
    "    for b in range(buckets):\n",
    "        if row['article'] in clique[b] :\n",
    "            color_dict[row['article']] = (int(cmap(b)[0]*255),int(cmap(b)[1]*255),int(cmap(b)[2]*255),1.0)\n",
    "            color_dict_edge[row['article']] = (int(cmap(b)[0]*255),int(cmap(b)[1]*255),int(cmap(b)[2]*255),0.2)"
   ]
  },
  {
   "cell_type": "markdown",
   "metadata": {},
   "source": [
    "## Compute positions with specific layout"
   ]
  },
  {
   "cell_type": "code",
   "execution_count": 26,
   "metadata": {},
   "outputs": [],
   "source": [
    "forceatlas2 = ForceAtlas2(\n",
    "                          # Behavior alternatives\n",
    "                          outboundAttractionDistribution=True,  # Dissuade hubs\n",
    "                          # Performance\n",
    "                          jitterTolerance=1.0,  # Tolerance\n",
    "                          barnesHutOptimize=True,\n",
    "                          barnesHutTheta=0.5,\n",
    "                          # Tuning\n",
    "                          scalingRatio=600.0,\n",
    "                          strongGravityMode=False,\n",
    "                          gravity=40.0,\n",
    "                          # Log\n",
    "                          verbose=False)"
   ]
  },
  {
   "cell_type": "code",
   "execution_count": 27,
   "metadata": {},
   "outputs": [],
   "source": [
    "def layout2(G, algorithm, fa=None):\n",
    "\t\"\"\"Function that apply a layout on graph and return the new positions of nodes\n",
    "\t\tG: the networkx graph.\n",
    "\t\talgorithm: kamada_kawai or ForceAtlas2\"\"\"\n",
    "\t\n",
    "\tpositions = {}\n",
    "\tif algorithm == 'kamada_kawai':\n",
    "\t\tpositions = nx.kamada_kawai_layout(G)\n",
    "\n",
    "\telif algorithm == 'ForceAtlas2' and fa != None:\n",
    "\t\t\"\"\"\n",
    "        Example for fa argument\n",
    "        forceatlas2 = ForceAtlas2(\n",
    "                          # Behavior alternatives\n",
    "                          outboundAttractionDistribution=False,  # Dissuade hubs\n",
    "                          # Performance\n",
    "                          jitterTolerance=1.0,  # Tolerance\n",
    "                          barnesHutOptimize=False,\n",
    "                          barnesHutTheta=1.2,\n",
    "                          # Tuning\n",
    "                          scalingRatio=5.0,\n",
    "                          strongGravityMode=False,\n",
    "                          gravity=50.0,\n",
    "                          # Log\n",
    "                          verbose=False)\"\"\"\n",
    "\t\tpositions = fa.forceatlas2_networkx_layout(G, pos=None, iterations=100)\n",
    "\treturn positions"
   ]
  },
  {
   "cell_type": "code",
   "execution_count": 28,
   "metadata": {},
   "outputs": [],
   "source": [
    "positions = layout2(G, algorithm='ForceAtlas2',fa=forceatlas2)"
   ]
  },
  {
   "cell_type": "code",
   "execution_count": 29,
   "metadata": {},
   "outputs": [],
   "source": [
    "x_mean = 0\n",
    "y_mean = 0\n",
    "x_std = 0\n",
    "y_std = 0\n",
    "for k,pos in positions.items():\n",
    "    x_mean += pos[0]\n",
    "    y_mean += pos[1]\n",
    "x_mean /= len(positions)\n",
    "y_mean /= len(positions)\n",
    "\n",
    "for k,pos in positions.items():\n",
    "    x_std += abs(pos[0]-x_mean)\n",
    "    y_std += abs(pos[1]-y_mean)\n",
    "\n",
    "x_std = np.sqrt(x_std/len(positions))\n",
    "y_std = np.sqrt(y_std/len(positions))"
   ]
  },
  {
   "cell_type": "raw",
   "metadata": {},
   "source": [
    "positions = nx.spring_layout(G,center=[0,0],seed=0)"
   ]
  },
  {
   "cell_type": "code",
   "execution_count": 30,
   "metadata": {},
   "outputs": [],
   "source": [
    "filtered_pages['coord'] = filtered_pages['article'].map(positions)"
   ]
  },
  {
   "cell_type": "markdown",
   "metadata": {},
   "source": [
    "## Normalize user activity"
   ]
  },
  {
   "cell_type": "code",
   "execution_count": 31,
   "metadata": {},
   "outputs": [],
   "source": [
    "user_activity_df = create_df_activity(user_activity_dict)"
   ]
  },
  {
   "cell_type": "raw",
   "metadata": {},
   "source": [
    "user_activity_df.to_pickle(\"./Data/XX_century/activity_\"+s.strftime(\"%Y-%m-%d\")+\"_\"+e.strftime(\"%Y-%m-%d\")+\"_\"+granularity+\".pkle\")"
   ]
  },
  {
   "cell_type": "raw",
   "metadata": {},
   "source": [
    "user_activity_df = pd.read_pickle(\"./Data/XX_century/activity_\"+s.strftime(\"%Y-%m-%d\")+\"_\"+e.strftime(\"%Y-%m-%d\")+\"_\"+granularity+\".pkle\")"
   ]
  },
  {
   "cell_type": "code",
   "execution_count": 32,
   "metadata": {},
   "outputs": [],
   "source": [
    "normalized_user_activity_df = normalize_activity(user_activity_df, factor=200, byColumn=False)"
   ]
  },
  {
   "cell_type": "code",
   "execution_count": 33,
   "metadata": {},
   "outputs": [],
   "source": [
    "# Create dataframe that contain the mean of each line\n",
    "user_activity_df_mean = normalized_user_activity_df.copy()\n",
    "user_activity_df_mean['mean'] = user_activity_df_mean.mean(axis=1)\n",
    "user_activity_df_mean['std'] = normalized_user_activity_df.std(axis=1)"
   ]
  },
  {
   "cell_type": "markdown",
   "metadata": {},
   "source": [
    "# Add French"
   ]
  },
  {
   "cell_type": "code",
   "execution_count": 34,
   "metadata": {},
   "outputs": [
    {
     "data": {
      "application/vnd.jupyter.widget-view+json": {
       "model_id": "942870c7b0194532bd217d4730c8cb29",
       "version_major": 2,
       "version_minor": 0
      },
      "text/plain": [
       "HBox(children=(IntProgress(value=0, max=823), HTML(value='')))"
      ]
     },
     "metadata": {},
     "output_type": "display_data"
    },
    {
     "name": "stdout",
     "output_type": "stream",
     "text": [
      "\n"
     ]
    }
   ],
   "source": [
    "timer = time.localtime(time.time())\n",
    "requests_ = 0\n",
    "requests_tot = 0\n",
    "language_code = \"fr\"\n",
    "lang_dict = {}\n",
    "user_activity_dict_fr = {}\n",
    "\n",
    "for index,row in tqdm_notebook(filtered_pages.iterrows(),total = filtered_pages.shape[0]):\n",
    "    requests_ +=2\n",
    "    requests_tot+=2\n",
    "    new_title = getArticleName(row['article'],language_code)\n",
    "    found = False\n",
    "    if new_title != \"\":\n",
    "        values = getUserActivity(article=new_title,project=language_code+\".wikipedia.org\",granularity=granularity,start=s,end=e)\n",
    "        if not((len(values) <= int(monthdelta(s,e) - 1) and granularity == 'monthly') or (len(values) <= int((e - s).days) and granularity == 'daily')):\n",
    "            user_activity_dict_fr[index] = values\n",
    "            lang_dict[row['article']] = new_title\n",
    "            found = True\n",
    "    \n",
    "    if not found:\n",
    "        lang_dict[row['article']] = \"unknown\"\n",
    "      "
   ]
  },
  {
   "cell_type": "code",
   "execution_count": 35,
   "metadata": {},
   "outputs": [],
   "source": [
    "filtered_pages['article_'+language_code] = filtered_pages['article'].map(lang_dict)"
   ]
  },
  {
   "cell_type": "code",
   "execution_count": 36,
   "metadata": {},
   "outputs": [],
   "source": [
    "user_activity_df_fr = create_df_activity(user_activity_dict_fr)"
   ]
  },
  {
   "cell_type": "code",
   "execution_count": 37,
   "metadata": {},
   "outputs": [],
   "source": [
    "normalized_user_activity_df_fr = normalize_activity(user_activity_df_fr, factor=30, byColumn=False)"
   ]
  },
  {
   "cell_type": "code",
   "execution_count": 38,
   "metadata": {},
   "outputs": [],
   "source": [
    "user_activity_df_mean_fr = normalized_user_activity_df_fr.copy()\n",
    "user_activity_df_mean_fr['mean'] = user_activity_df_mean_fr.mean(axis=1)\n",
    "user_activity_df_mean_fr['std'] = normalized_user_activity_df_fr.std(axis=1)"
   ]
  },
  {
   "cell_type": "code",
   "execution_count": 39,
   "metadata": {},
   "outputs": [],
   "source": [
    "def parse_article_title(title):\n",
    "    return urllib.parse.unquote(title).replace('_',' ')\n",
    "def parse_color(color):\n",
    "    return \"rgba\"+str(color).replace(' ','')"
   ]
  },
  {
   "cell_type": "code",
   "execution_count": null,
   "metadata": {},
   "outputs": [],
   "source": []
  },
  {
   "cell_type": "code",
   "execution_count": 40,
   "metadata": {},
   "outputs": [],
   "source": [
    "graph_data = { 'nodes': [], 'edges': [] }\n",
    "\n",
    "for i,row in filtered_pages.iterrows():\n",
    "    \n",
    "    x,y = w_stye_coordinate()\n",
    "    \n",
    "    to_be_added = {}\n",
    "    for j in range(len(normalized_user_activity_df.loc[i])):\n",
    "        to_be_added[str(j)+\"_size\"] = normalized_user_activity_df.loc[i][j]\n",
    "        if row['article_fr'] != \"unknown\":\n",
    "            to_be_added[str(j)+\"_size_fr\"] = normalized_user_activity_df_fr.loc[i][j]\n",
    "\n",
    "    to_be_added['label'] = parse_article_title(row['article'])\n",
    "    to_be_added['label_en'] = parse_article_title(row['article'])\n",
    "    to_be_added['label_fr'] = parse_article_title(row['article_fr'])\n",
    "    to_be_added['x'] = x\n",
    "    to_be_added[\"y\"] = y\n",
    "    to_be_added[\"id\"]= parse_article_title(row['article'])\n",
    "    to_be_added['id_en'] = parse_article_title(row['article'])\n",
    "    to_be_added['id_fr'] = parse_article_title(row['article_fr'])\n",
    "    to_be_added[\"attributes\"]= {\"category\":'Unknown'}\n",
    "    to_be_added[\"user_activity\"]= user_activity_dict[i]\n",
    "    if row['article_fr'] != \"unknown\":\n",
    "        to_be_added[\"user_activity_fr\"]= user_activity_dict_fr[i]\n",
    "        to_be_added[\"activity_mean_fr\"]= user_activity_df_mean_fr.loc[i]['mean']\n",
    "        to_be_added[\"activity_std_fr\"]= user_activity_df_mean_fr.loc[i]['std']\n",
    "    to_be_added[\"color\"]= 'rgb(30,30,30)'\n",
    "    to_be_added[\"originalColor\"]= parse_color(color_dict[row['article']])\n",
    "    #\"size\": 0 if(user_activity_dict[i][0][0]==0) else (np.log(user_activity_dict[i][0][0]))\n",
    "    to_be_added[\"size\"]= 10\n",
    "    to_be_added[\"square_x\"]= x\n",
    "    to_be_added[\"square_y\"]= y\n",
    "    to_be_added[\"square_size\"]= 10\n",
    "    to_be_added[\"square_color\"]= 'rgb(30,30,30)'\n",
    "    to_be_added[\"correct_x\"]= (row['coord'][0] - x_mean)/x_std\n",
    "    to_be_added[\"correct_y\"]= (row['coord'][1] - y_mean)/y_std\n",
    "    to_be_added[\"correct_size\"]= normalized_user_activity_df.loc[i][0]\n",
    "    to_be_added[\"activity_mean\"]= user_activity_df_mean.loc[i]['mean']  \n",
    "    to_be_added[\"activity_std\"]= user_activity_df_mean.loc[i]['std']\n",
    "    \n",
    "    #to_be_added[\"correct_color\"]= row['color']\n",
    "    to_be_added[\"correct_color\"]= parse_color(color_dict[row['article']])\n",
    "    graph_data['nodes'].append(to_be_added)\n",
    "\n",
    "for i,row in filtered_links.iterrows():\n",
    "    graph_data['edges'].append({\n",
    "            \"id\": str(i),\n",
    "            \"source\": parse_article_title(row['linkSource']),\n",
    "            \"target\": parse_article_title(row['linkTarget']),\n",
    "            \"attributes\" : {},\n",
    "            \"color\": parse_color(color_dict_edge[row['linkSource']]),\n",
    "            \"originalColor\": parse_color(color_dict_edge[row['linkSource']]),\n",
    "            #\"color\": \"rgb(30,30,30)\",\n",
    "            #\"originalColor\": \"rgb(30,30,30)\",\n",
    "            \"size\": 0.1,\n",
    "            \"type\": 'curve'\n",
    "        })"
   ]
  },
  {
   "cell_type": "code",
   "execution_count": 41,
   "metadata": {},
   "outputs": [],
   "source": [
    "save_graph_json('../raffiot.github.io/raffiot.github.io/XX_century/XX_century_en_fr.json',graph_data)"
   ]
  },
  {
   "cell_type": "code",
   "execution_count": null,
   "metadata": {},
   "outputs": [],
   "source": []
  },
  {
   "cell_type": "code",
   "execution_count": 42,
   "metadata": {},
   "outputs": [],
   "source": [
    "from matplotlib.pyplot import figure"
   ]
  },
  {
   "cell_type": "code",
   "execution_count": 43,
   "metadata": {},
   "outputs": [],
   "source": [
    "music = filtered_pages.loc[filtered_pages['article'] == '1996_in_music']"
   ]
  },
  {
   "cell_type": "code",
   "execution_count": 44,
   "metadata": {},
   "outputs": [],
   "source": [
    "music_serie = user_activity_dict[music.index[0]]"
   ]
  },
  {
   "cell_type": "code",
   "execution_count": 45,
   "metadata": {},
   "outputs": [],
   "source": [
    "def transform_activity(serie):\n",
    "    x = []\n",
    "    y = []\n",
    "    for i in serie:\n",
    "        x.append(i[1][0:7])\n",
    "        y.append(i[0])\n",
    "    return x,y"
   ]
  },
  {
   "cell_type": "code",
   "execution_count": 46,
   "metadata": {},
   "outputs": [],
   "source": [
    "x,y = transform_activity(music_serie)"
   ]
  },
  {
   "cell_type": "code",
   "execution_count": 47,
   "metadata": {},
   "outputs": [
    {
     "data": {
      "image/png": "[encoded data removed]",
      "text/plain": [
       "<Figure size 1200x480 with 1 Axes>"
      ]
     },
     "metadata": {},
     "output_type": "display_data"
    }
   ],
   "source": [
    "figure(num=None, figsize=(15, 6), dpi=80, facecolor='w', edgecolor='k')\n",
    "plt.xticks(rotation=90)\n",
    "plt.bar(x,y)\n",
    "plt.savefig(\"../raffiot.github.io/raffiot.github.io/images/1996_in_music\")\n",
    "#plt.show()"
   ]
  },
  {
   "cell_type": "code",
   "execution_count": 48,
   "metadata": {},
   "outputs": [],
   "source": [
    "activity_peak = music_serie[14]"
   ]
  },
  {
   "cell_type": "code",
   "execution_count": 49,
   "metadata": {},
   "outputs": [
    {
     "data": {
      "text/plain": [
       "[5447653, '2017-01-01T00:00:00']"
      ]
     },
     "execution_count": 49,
     "metadata": {},
     "output_type": "execute_result"
    }
   ],
   "source": [
    "activity_peak"
   ]
  },
  {
   "cell_type": "code",
   "execution_count": 50,
   "metadata": {},
   "outputs": [
    {
     "data": {
      "text/plain": [
       "158194.77777777778"
      ]
     },
     "execution_count": 50,
     "metadata": {},
     "output_type": "execute_result"
    }
   ],
   "source": [
    "np.mean(y)"
   ]
  },
  {
   "cell_type": "code",
   "execution_count": 51,
   "metadata": {},
   "outputs": [
    {
     "data": {
      "text/plain": [
       "34.436364313191966"
      ]
     },
     "execution_count": 51,
     "metadata": {},
     "output_type": "execute_result"
    }
   ],
   "source": [
    "activity_peak[0]/np.mean(y)"
   ]
  },
  {
   "cell_type": "markdown",
   "metadata": {},
   "source": [
    "### Chipko Movment"
   ]
  },
  {
   "cell_type": "code",
   "execution_count": 52,
   "metadata": {},
   "outputs": [],
   "source": [
    "chi = filtered_pages.loc[filtered_pages['article'] == 'Chipko_movement']\n",
    "chi_serie = user_activity_dict[chi.index[0]]\n",
    "x9,y9 = transform_activity(chi_serie)"
   ]
  },
  {
   "cell_type": "code",
   "execution_count": 53,
   "metadata": {},
   "outputs": [
    {
     "data": {
      "image/png": "[encoded data removed]",
      "text/plain": [
       "<Figure size 1200x480 with 1 Axes>"
      ]
     },
     "metadata": {},
     "output_type": "display_data"
    }
   ],
   "source": [
    "figure(num=None, figsize=(15, 6), dpi=80, facecolor='w', edgecolor='k')\n",
    "plt.xticks(rotation=90)\n",
    "plt.bar(x9,y9)\n",
    "plt.savefig(\"../raffiot.github.io/raffiot.github.io/images/chipko\")\n",
    "#plt.show()"
   ]
  },
  {
   "cell_type": "code",
   "execution_count": null,
   "metadata": {},
   "outputs": [],
   "source": []
  }
 ],
 "metadata": {
  "kernelspec": {
   "display_name": "Python 3",
   "language": "python",
   "name": "python3"
  },
  "language_info": {
   "codemirror_mode": {
    "name": "ipython",
    "version": 3
   },
   "file_extension": ".py",
   "mimetype": "text/x-python",
   "name": "python",
   "nbconvert_exporter": "python",
   "pygments_lexer": "ipython3",
   "version": "3.6.6"
  },
  "toc": {
   "nav_menu": {},
   "number_sections": true,
   "sideBar": true,
   "skip_h1_title": false,
   "title_cell": "Table of Contents",
   "title_sidebar": "Contents",
   "toc_cell": false,
   "toc_position": {},
   "toc_section_display": true,
   "toc_window_display": false
  }
 },
 "nbformat": 4,
 "nbformat_minor": 2
}
