{
 "cells": [
  {
   "cell_type": "code",
   "execution_count": 1,
   "metadata": {},
   "outputs": [],
   "source": [
    "import pandas as pd\n",
    "import json, random\n",
    "from helpers import *\n",
    "import time\n",
    "from tqdm import tqdm_notebook\n",
    "from fa2 import ForceAtlas2\n",
    "import matplotlib.pyplot as plt\n",
    "from dateutil import relativedelta\n",
    "from datetime import timedelta\n",
    "import glob\n",
    "from fa2l import force_atlas2_layout"
   ]
  },
  {
   "cell_type": "markdown",
   "metadata": {},
   "source": [
    "# Load pages and categories"
   ]
  },
  {
   "cell_type": "raw",
   "metadata": {},
   "source": [
    "path ='./Data/normal_pages' # use your path\n",
    "allFiles = glob.glob(path + \"/*.csv\")\n",
    "\n",
    "list_ = []\n",
    "\n",
    "for file_ in allFiles:\n",
    "    df = pd.read_csv(file_,sep ='\\t',index_col='id',comment='#',names=['id','article','isRedirect','isNew'], header=None)\n",
    "    list_.append(df)\n",
    "\n",
    "normal_pages = pd.concat(list_, axis = 0)\n",
    "\n",
    "path ='./Data/category_pages' # use your path\n",
    "allFiles = glob.glob(path + \"/*.csv\")\n",
    "\n",
    "list_ = []\n",
    "\n",
    "for file_ in allFiles:\n",
    "    df = pd.read_csv(file_,sep ='\\t',index_col=0,comment='#',names=['id','aticle','isRedirect','isNew'], header=None)\n",
    "    list_.append(df)\n",
    "\n",
    "category_pages = pd.concat(list_, axis = 0)"
   ]
  },
  {
   "cell_type": "code",
   "execution_count": 2,
   "metadata": {},
   "outputs": [],
   "source": [
    "normal_pages = pd.read_pickle(\"./Data/normal_pages/normal_pages.pkle\")"
   ]
  },
  {
   "cell_type": "markdown",
   "metadata": {},
   "source": [
    "category_pages = pd.read_pickle(\"./Data/category_pages/category_pages.pkle\")"
   ]
  },
  {
   "cell_type": "markdown",
   "metadata": {},
   "source": [
    "normal_pages.to_pickle(\"./Data/normal_pages/normal_pages.pkle\")"
   ]
  },
  {
   "cell_type": "markdown",
   "metadata": {},
   "source": [
    "category_pages.to_pickle(\"./Data/category_pages/category_pages.pkle\")"
   ]
  },
  {
   "cell_type": "code",
   "execution_count": 4,
   "metadata": {},
   "outputs": [
    {
     "data": {
      "text/plain": [
       "14050827"
      ]
     },
     "execution_count": 4,
     "metadata": {},
     "output_type": "execute_result"
    }
   ],
   "source": [
    "len(normal_pages)"
   ]
  },
  {
   "cell_type": "markdown",
   "metadata": {},
   "source": [
    "# Load links"
   ]
  },
  {
   "cell_type": "code",
   "execution_count": 5,
   "metadata": {},
   "outputs": [],
   "source": [
    "links = pd.read_csv(\"./Data/diseases/diseases_edges.csv\",sep='\\t',comment='#',header=0,names=['linkSource', 'rel','linkTarget'],dtype=str)"
   ]
  },
  {
   "cell_type": "markdown",
   "metadata": {},
   "source": [
    "## Filter links if they don't link pages (they link categories)"
   ]
  },
  {
   "cell_type": "code",
   "execution_count": 6,
   "metadata": {},
   "outputs": [],
   "source": [
    "links_copy = links.copy()"
   ]
  },
  {
   "cell_type": "code",
   "execution_count": 7,
   "metadata": {
    "scrolled": false
   },
   "outputs": [
    {
     "data": {
      "application/vnd.jupyter.widget-view+json": {
       "model_id": "8a2156cfaa2543f889565a877f2da335",
       "version_major": 2,
       "version_minor": 0
      },
      "text/plain": [
       "HBox(children=(IntProgress(value=0, max=26305), HTML(value='')))"
      ]
     },
     "metadata": {},
     "output_type": "display_data"
    },
    {
     "name": "stdout",
     "output_type": "stream",
     "text": [
      "\n"
     ]
    }
   ],
   "source": [
    "indexes_to_drop = []\n",
    "for i,row in tqdm_notebook(links_copy.iterrows(),total = links_copy.shape[0]):\n",
    "    if int(row['linkSource']) in normal_pages.index and int(row['linkTarget']) in normal_pages.index:\n",
    "        links_copy.at[i,'linkSource'] = normal_pages.loc[int(row['linkSource'])]['article']\n",
    "        links_copy.at[i,'linkTarget'] = normal_pages.loc[int(row['linkTarget'])]['article']\n",
    "    else:\n",
    "        indexes_to_drop.append(i)\n",
    "        \n",
    "links_copy = links_copy.drop(links_copy.index[indexes_to_drop])"
   ]
  },
  {
   "cell_type": "markdown",
   "metadata": {},
   "source": [
    "#Drop 'BELONGS_TO' link"
   ]
  },
  {
   "cell_type": "code",
   "execution_count": 8,
   "metadata": {},
   "outputs": [],
   "source": [
    "links_copy = links_copy.loc[links['rel'] != 'BELONGS_TO']"
   ]
  },
  {
   "cell_type": "code",
   "execution_count": 9,
   "metadata": {},
   "outputs": [
    {
     "data": {
      "text/html": [
       "<div>\n",
       "<style scoped>\n",
       "    .dataframe tbody tr th:only-of-type {\n",
       "        vertical-align: middle;\n",
       "    }\n",
       "\n",
       "    .dataframe tbody tr th {\n",
       "        vertical-align: top;\n",
       "    }\n",
       "\n",
       "    .dataframe thead th {\n",
       "        text-align: right;\n",
       "    }\n",
       "</style>\n",
       "<table border=\"1\" class=\"dataframe\">\n",
       "  <thead>\n",
       "    <tr style=\"text-align: right;\">\n",
       "      <th></th>\n",
       "      <th>linkSource</th>\n",
       "      <th>rel</th>\n",
       "      <th>linkTarget</th>\n",
       "    </tr>\n",
       "  </thead>\n",
       "  <tbody>\n",
       "    <tr>\n",
       "      <th>1</th>\n",
       "      <td>Dutch_hypothesis</td>\n",
       "      <td>LINKS_TO</td>\n",
       "      <td>Chronic_obstructive_pulmonary_disease</td>\n",
       "    </tr>\n",
       "    <tr>\n",
       "      <th>2</th>\n",
       "      <td>Dutch_hypothesis</td>\n",
       "      <td>LINKS_TO</td>\n",
       "      <td>Asthma</td>\n",
       "    </tr>\n",
       "    <tr>\n",
       "      <th>4</th>\n",
       "      <td>Natural_history_of_disease</td>\n",
       "      <td>LINKS_TO</td>\n",
       "      <td>Disease</td>\n",
       "    </tr>\n",
       "    <tr>\n",
       "      <th>5</th>\n",
       "      <td>Causes_of_Parkinson\\'s_disease</td>\n",
       "      <td>LINKS_TO</td>\n",
       "      <td>Parkinson\\'s_disease</td>\n",
       "    </tr>\n",
       "    <tr>\n",
       "      <th>6</th>\n",
       "      <td>Causes_of_Parkinson\\'s_disease</td>\n",
       "      <td>LINKS_TO</td>\n",
       "      <td>Asymptomatic_carrier</td>\n",
       "    </tr>\n",
       "  </tbody>\n",
       "</table>\n",
       "</div>"
      ],
      "text/plain": [
       "                       linkSource       rel  \\\n",
       "1                Dutch_hypothesis  LINKS_TO   \n",
       "2                Dutch_hypothesis  LINKS_TO   \n",
       "4      Natural_history_of_disease  LINKS_TO   \n",
       "5  Causes_of_Parkinson\\'s_disease  LINKS_TO   \n",
       "6  Causes_of_Parkinson\\'s_disease  LINKS_TO   \n",
       "\n",
       "                              linkTarget  \n",
       "1  Chronic_obstructive_pulmonary_disease  \n",
       "2                                 Asthma  \n",
       "4                                Disease  \n",
       "5                   Parkinson\\'s_disease  \n",
       "6                   Asymptomatic_carrier  "
      ]
     },
     "execution_count": 9,
     "metadata": {},
     "output_type": "execute_result"
    }
   ],
   "source": [
    "links_copy.head()"
   ]
  },
  {
   "cell_type": "markdown",
   "metadata": {},
   "source": [
    "## Filter normal pages if they are redirect"
   ]
  },
  {
   "cell_type": "code",
   "execution_count": 10,
   "metadata": {},
   "outputs": [],
   "source": [
    "normal_pages_copy = normal_pages.copy()"
   ]
  },
  {
   "cell_type": "code",
   "execution_count": 11,
   "metadata": {},
   "outputs": [],
   "source": [
    "normal_pages_copy = normal_pages_copy.loc[normal_pages_copy['isRedirect'] == False]"
   ]
  },
  {
   "cell_type": "code",
   "execution_count": 12,
   "metadata": {},
   "outputs": [
    {
     "data": {
      "text/plain": [
       "5690369"
      ]
     },
     "execution_count": 12,
     "metadata": {},
     "output_type": "execute_result"
    }
   ],
   "source": [
    "len(normal_pages_copy)"
   ]
  },
  {
   "cell_type": "code",
   "execution_count": null,
   "metadata": {},
   "outputs": [],
   "source": []
  },
  {
   "cell_type": "markdown",
   "metadata": {},
   "source": [
    "## First iterative filter to reduce further number of request"
   ]
  },
  {
   "cell_type": "code",
   "execution_count": 13,
   "metadata": {},
   "outputs": [],
   "source": [
    "filtered_pages, filtered_links = iterative_filter(normal_pages_copy,links_copy)"
   ]
  },
  {
   "cell_type": "code",
   "execution_count": 14,
   "metadata": {},
   "outputs": [
    {
     "data": {
      "text/plain": [
       "22949"
      ]
     },
     "execution_count": 14,
     "metadata": {},
     "output_type": "execute_result"
    }
   ],
   "source": [
    "len(filtered_links)"
   ]
  },
  {
   "cell_type": "markdown",
   "metadata": {},
   "source": [
    "## Request to get article activity"
   ]
  },
  {
   "cell_type": "code",
   "execution_count": 15,
   "metadata": {},
   "outputs": [],
   "source": [
    "s = datetime.datetime(year=2015,month=11,day=1)\n",
    "e = datetime.datetime(year=2018,month=11,day=1)"
   ]
  },
  {
   "cell_type": "code",
   "execution_count": 16,
   "metadata": {
    "scrolled": true
   },
   "outputs": [
    {
     "data": {
      "application/vnd.jupyter.widget-view+json": {
       "model_id": "ddf2b7a244664b2785375c345a5f8955",
       "version_major": 2,
       "version_minor": 0
      },
      "text/plain": [
       "HBox(children=(IntProgress(value=0, max=1648), HTML(value='')))"
      ]
     },
     "metadata": {},
     "output_type": "display_data"
    },
    {
     "name": "stdout",
     "output_type": "stream",
     "text": [
      "drop Huntington\\'s_disease\n",
      "drop Crohn\\'s_disease\n",
      "drop Morvan\\'s_syndrome\n",
      "drop Koch\\'s_postulates\n",
      "drop Idiopathic_disease\n",
      "drop Hashimoto\\'s_thyroiditis\n",
      "drop Sheehan\\'s_syndrome\n",
      "drop Traveler\\'s_diarrhea\n",
      "drop Battle\\'s_sign\n",
      "drop Zieve\\'s_syndrome\n",
      "drop Wooden_chest_syndrome\n",
      "drop Swimmer\\'s_itch\n",
      "drop Freshers\\'_Flu\n",
      "drop Winterbottom\\'s_sign\n",
      "drop Nelson\\'s_syndrome\n",
      "drop Surfer\\'s_ear\n",
      "drop Gradenigo\\'s_syndrome\n",
      "drop Valentino\\'s_syndrome\n",
      "drop Tyzzer\\'s_disease\n",
      "drop Factitious_disorder_imposed_on_another\n",
      "drop Hamman\\'s_syndrome\n",
      "drop HIV/AIDS\n",
      "drop Distal_trisomy_10q\n",
      "drop Golfer\\'s_vasculitis\n",
      "drop Hutchinson\\'s_triad\n",
      "drop Sneddon\\'s_syndrome\n",
      "drop Pseudo-Cushing\\'s_syndrome\n",
      "drop Majewski\\'s_polydactyly_syndrome\n",
      "drop Wissler\\'s_syndrome\n",
      "drop Paget\\'s_abscess\n",
      "drop Jansen\\'s_metaphyseal_chondrodysplasia\n",
      "drop Alvarez\\'_syndrome\n",
      "drop Wilson\\'s_temperature_syndrome\n",
      "drop Barton\\'s_fracture\n",
      "drop Ramsay_Hunt_syndrome_type_1\n",
      "drop Anterior_compartment_syndrome\n",
      "drop Wartenberg\\'s_migratory_sensory_neuropathy\n",
      "drop NINCDS-ADRDA_Alzheimer\\'s_Criteria\n",
      "drop Gleich\\'s_syndrome\n",
      "drop Grisel\\'s_syndrome\n",
      "drop T-lymphoblastic_leukemia/lymphoma\n",
      "drop Fleischer\\'s_syndrome\n",
      "drop Serum_sickness–like_reaction\n",
      "drop Parkinson\\'s_disease\n",
      "drop Binder\\'s_syndrome\n",
      "drop Paraneoplastic_acrokeratosis\n",
      "drop Ross\\'_syndrome\n",
      "drop Generalized_arterial_calcification_of_infancy\n",
      "drop Hughes–Stovin_syndrome\n",
      "drop Supernumerary_nipples–uropathies–Becker\\'s_nevus_syndrome\n",
      "drop Parinaud\\'s_oculoglandular_syndrome\n",
      "drop Crysodavarious\n",
      "drop Grinspan\\'s_syndrome\n",
      "drop Leiner\\'s_disease\n",
      "drop Renpenning\\'s_syndrome\n",
      "drop Alopecia_contractures_dwarfism_mental_retardation_syndrome\n",
      "drop Climber\\'s_finger\n",
      "drop Behçet\\'s_disease\n",
      "drop Global_Genes\n",
      "drop Aluminium_toxicity_in_people_on_dialysis\n",
      "drop Wartenberg\\'s_syndrome\n",
      "drop Cause_(medicine)\n",
      "drop Causes_of_Parkinson\\'s_disease\n",
      "drop Haglund\\'s_syndrome\n",
      "drop Froin\\'s_syndrome\n",
      "drop Secretan\\'s_syndrome\n",
      "drop Gartner\\'s_duct_cyst\n",
      "drop List_of_Legionnaires\\'_disease_outbreaks\n",
      "drop Theiler\\'s_disease\n",
      "drop Pseudo-goitre\n",
      "drop Twin_anemia-polycythemia_sequence\n",
      "drop Ogden_syndrome\n",
      "drop Bone_health\n",
      "drop Haab\\'s_striae\n",
      "drop Timeline_of_plant_pathology\n",
      "drop Circulating_tumor_DNA\n",
      "drop Terrien\\'s_marginal_degeneration\n",
      "drop Irvine–Gass_syndrome\n",
      "drop Craniometaphyseal_dysplasia\n",
      "drop Cerebral_autosomal_recessive_arteriopathy_with_subcortical_infarcts_and_leukoencephalopathy\n",
      "drop Cancer/testis_antigens\n",
      "drop Variant_of_uncertain_significance\n",
      "drop Opitz_G/BBB_syndrome\n",
      "drop Oral_mite_anaphylaxis\n",
      "drop Obesity_and_cancer\n",
      "drop Concussions_in_rugby_union\n",
      "drop Twiddler\\'s_syndrome\n",
      "drop Acoustic_trauma\n",
      "drop Neonatal_infection\n",
      "drop Growing_teratoma_syndrome\n",
      "drop Linburg–Comstock_variation_and_syndrome\n",
      "drop Urethral_hypermobility\n",
      "drop CAPP-Seq\n",
      "drop Epoxydocosapentaenoic_acid\n",
      "drop Zechi-Ceide_syndrome\n",
      "drop Epoxyeicosatetraenoic_acid\n",
      "drop Duodenal_lymphocytosis\n",
      "drop Spondylo-ocular_syndrome\n",
      "drop Battle_with_cancer\n",
      "drop Huntington\\'s_disease-like_syndrome\n",
      "drop Benign_hereditary_chorea\n",
      "drop List_of_rare_disease_organisations\n",
      "drop Spastic_ataxia-corneal_dystrophy_syndrome\n",
      "drop Simple_clinical_colitis_activity_index\n",
      "drop List_of_fetal_abnormalities\n",
      "drop List_of_biological_development_disorders\n",
      "drop Anti-DNase_B\n",
      "drop NEMO_deficiency_syndrome\n",
      "drop Biphenotypic_sinonasal_sarcoma\n",
      "drop Type_3c_(Pancreatogenic)_Diabetes\n",
      "drop Tornwaldt\\'s_disease\n",
      "drop List_of_pollution-related_diseases\n",
      "drop Hemoglobin_H_disease\n",
      "drop Distal_hereditary_motor_neuropathy_type_V\n",
      "drop Testicular_dysgenesis_syndrome\n",
      "drop Scar_free_healing\n",
      "drop Catheter-associated_urinary_tract_infection\n",
      "drop Endogenous_infection\n",
      "drop Attract-kill_pattern\n",
      "drop Cellular_Inhibitor_of_Apoptosis_Protein_1\n",
      "drop Cryoimmunotherapy\n",
      "drop Timeline_of_cancer_treatment_development\n",
      "drop Nevo_syndrome\n",
      "drop Plant-induced_systemic_resistance\n",
      "drop MEDNIK_syndrome\n",
      "drop Severe_achondroplasia_with_developmental_delay_and_acanthosis_nigricans\n",
      "drop Pseudoenzyme\n",
      "drop Ureterovaginal_fistula\n",
      "drop Cuffitis\n",
      "drop Infection_rate\n",
      "drop Andermann_syndrome\n",
      "drop Hypertension_and_brachydactyly_syndrome\n",
      "drop Sorsby\\'s_fundus_dystrophy\n",
      "drop Cervicocranial_syndrome\n",
      "drop Ossification_of_the_posterior_longitudinal_ligament\n",
      "drop Childhood_granulomatous_periorificial_dermatitis\n",
      "drop Alimentary_toxic_aleukia\n",
      "drop Diseases_of_abnormal_polymerization\n",
      "drop Collective_cell_migration\n",
      "drop Pork–cat_syndrome\n",
      "drop Post_micturition_convulsion_syndrome\n",
      "drop Non-occlusive_disease\n",
      "drop Adipomastia\n",
      "drop Pseudokinase\n",
      "drop Tumor-associated_endothelial_cell\n",
      "drop Cat_bite\n",
      "drop Tomato_fever\n",
      "drop Motor_planning\n",
      "drop Infant_and_toddler_safety\n",
      "drop ICD_coding_for_rare_diseases\n",
      "drop Newborn_care_and_safety\n",
      "drop Gonadotropin_insensitivity\n",
      "drop Postpartum_chills\n",
      "drop Infections_associated_with_diseases\n",
      "drop Blepharoconjuctivitis\n",
      "drop Hypodysfibrinogenemia\n",
      "drop List_of_fibrinogen_disorders\n",
      "drop STAR_syndrome\n",
      "drop Rectitis\n",
      "drop Post-exertional_malaise\n",
      "drop Cancer-associated_fibroblast\n",
      "drop Lightwood\\'s_law\n",
      "drop Histamine_intolerance\n",
      "drop Oculoauricular_syndrome\n",
      "drop Al-Raqad_syndrome\n",
      "drop List_of_syndromes\n",
      "drop Birk-Barel_syndrome\n",
      "drop Severe_cutaneous_adverse_reactions\n",
      "drop Ring_chromosome_20\n",
      "drop Paragraphia\n",
      "drop Kosaki_overgrowth_syndrome\n",
      "drop PLAID_syndrome\n",
      "drop Amaurotic_nystagmus\n",
      "drop Pendular_nystagmus\n",
      "drop RIDDLE_syndrome\n",
      "drop Immunodeficiency_26\n",
      "drop NGLY1_deficiency\n",
      "drop Mensacarcin\n",
      "drop Transcriptome_instability\n",
      "drop Urethrovaginal_fistula\n",
      "drop Color_anomaly\n",
      "drop WNT4_deficiency\n",
      "drop Vaginal_melanoma\n",
      "drop Barré–Liéou_syndrome\n",
      "drop Vaginal_cysts\n",
      "drop Genetics_of_GnRH_deficiency_conditions\n",
      "drop Xp11.2_Duplication\n",
      "drop Vaginitis_emphysematosa\n",
      "drop Keratoendotheliitis_fugax_hereditaria\n",
      "drop Vulvar_tumors\n",
      "drop PMM2_deficiency\n",
      "drop Soemmering_ring\n",
      "drop List_of_diseases_by_year_of_discovery\n",
      "drop Sengers_syndrome\n",
      "drop Pascual-Castroviejo_syndrome\n",
      "drop Emberger_syndrome\n",
      "drop Busch_fracture\n",
      "drop Very_early_onset_inflammatory_bowel_disease\n",
      "drop Vertifolia_effect\n",
      "drop GATA2_deficiency\n",
      "drop Anti-IgLON5_disease\n",
      "drop Biloma\n",
      "drop Adenosine_deaminase_2_deficiency\n",
      "drop Retained_antrum_syndrome\n",
      "drop Selenomonas_noxia\n",
      "drop Disease_in_fiction\n",
      "drop Haploinsufficiency_of_A20\n",
      "\n"
     ]
    }
   ],
   "source": [
    "timer = time.localtime(time.time())\n",
    "requests = 0\n",
    "requests_tot = 0\n",
    "granularity = 'monthly'\n",
    "user_activity_dict = {}\n",
    "to_drop = []\n",
    "\n",
    "for index,row in tqdm_notebook(filtered_pages.iterrows(),total = filtered_pages.shape[0]):\n",
    "    requests +=1\n",
    "    requests_tot+=1\n",
    "    values = getUserActivity(article=row['article'],granularity=granularity,start=s,end=e)\n",
    "    \n",
    "    if (len(values) <= int(monthdelta(s,e) - 1) and granularity == 'monthly') or (len(values) <= int((e - s).days) and granularity == 'daily'):\n",
    "            \n",
    "        print(\"drop \"+ row['article'])\n",
    "        to_drop.append(index)\n",
    "        filtered_pages.drop(index, inplace=True)\n",
    "        \n",
    "    else:\n",
    "        user_activity_dict[index] = values\n",
    "        \n",
    "    #to fit the limit of 100req/s    \n",
    "    current_time = time.localtime(time.time())\n",
    "    time_elapsed_sec = current_time[5] - timer[5]\n",
    "    time_elapsed_min = current_time[4] - timer[4]\n",
    "    if  time_elapsed_min < 1 and time_elapsed_sec < 0 and requests >= 100:\n",
    "        time.sleep(max(time_elapsed_sec,0))\n",
    "        timer = time.localtime(time.time())\n",
    "        requests = 0\n",
    "    elif time_elapsed_min >= 1 and time_elapsed_sec >=0:\n",
    "        timer = time.localtime(time.time())\n",
    "        requests = 0"
   ]
  },
  {
   "cell_type": "code",
   "execution_count": 17,
   "metadata": {},
   "outputs": [],
   "source": [
    "filtered_pages, filtered_links = iterative_filter(filtered_pages,filtered_links)"
   ]
  },
  {
   "cell_type": "code",
   "execution_count": 18,
   "metadata": {},
   "outputs": [
    {
     "data": {
      "text/plain": [
       "array(['Causes_of_seizures', 'LINKS_TO', 'Down_syndrome'], dtype=object)"
      ]
     },
     "execution_count": 18,
     "metadata": {},
     "output_type": "execute_result"
    }
   ],
   "source": [
    "filtered_links.loc[43].values"
   ]
  },
  {
   "cell_type": "code",
   "execution_count": 19,
   "metadata": {},
   "outputs": [
    {
     "data": {
      "text/plain": [
       "1385"
      ]
     },
     "execution_count": 19,
     "metadata": {},
     "output_type": "execute_result"
    }
   ],
   "source": [
    "len(filtered_pages)"
   ]
  },
  {
   "cell_type": "markdown",
   "metadata": {},
   "source": [
    "## Create Graph"
   ]
  },
  {
   "cell_type": "code",
   "execution_count": 18,
   "metadata": {},
   "outputs": [],
   "source": [
    "def createGraph20(nodes, edges):\n",
    "    \"\"\"\n",
    "    Method to create a networkx directed graph from articles node already filtered in categories_filtered\n",
    "    articles: the wikipedia articles in dataframe ['article']\n",
    "\n",
    "    categories_filtered: wikipedia articles with their category ['article','categories_filtered'] where 'article' is the index\n",
    "    categories_filtered have to contain only the node with category you want to appear on the graph.\n",
    "\n",
    "    links: the hyperlinks between wikipedia articles in form ['linkSource', 'linkTarget']\n",
    "\n",
    "    return newly created networkx.DiGraph\n",
    "    \"\"\"\n",
    "\n",
    "    #Create graph with networkx\n",
    "    tup = [[x[0],x[2]] for x in edges.values]\n",
    "    G = nx.Graph()\n",
    "    G.add_edges_from(tup)\n",
    "    return G"
   ]
  },
  {
   "cell_type": "code",
   "execution_count": 19,
   "metadata": {},
   "outputs": [],
   "source": [
    "G = createGraph20(filtered_pages, filtered_links)"
   ]
  },
  {
   "cell_type": "markdown",
   "metadata": {},
   "source": [
    "## Color node with community detection"
   ]
  },
  {
   "cell_type": "code",
   "execution_count": 20,
   "metadata": {},
   "outputs": [],
   "source": [
    "from networkx.algorithms.community import k_clique_communities,girvan_newman\n",
    "from networkx.algorithms.community import greedy_modularity_communities, label_propagation_communities"
   ]
  },
  {
   "cell_type": "code",
   "execution_count": 21,
   "metadata": {},
   "outputs": [],
   "source": [
    "clique = list(greedy_modularity_communities(G))"
   ]
  },
  {
   "cell_type": "code",
   "execution_count": 22,
   "metadata": {},
   "outputs": [
    {
     "data": {
      "text/plain": [
       "19"
      ]
     },
     "execution_count": 22,
     "metadata": {},
     "output_type": "execute_result"
    }
   ],
   "source": [
    "len(clique)"
   ]
  },
  {
   "cell_type": "code",
   "execution_count": 24,
   "metadata": {},
   "outputs": [],
   "source": [
    "buckets = len(clique)\n",
    "cmap=plt.cm.get_cmap('Dark2')\n",
    "color_dict = {}\n",
    "color_dict_edge = {}\n",
    "for i,row in filtered_pages.iterrows():\n",
    "    for b in range(buckets):\n",
    "        if row['article'] in clique[b] :\n",
    "            color_dict[row['article']] = (int(cmap(b)[0]*255),int(cmap(b)[1]*255),int(cmap(b)[2]*255),1.0)\n",
    "            color_dict_edge[row['article']] = (int(cmap(b)[0]*255),int(cmap(b)[1]*255),int(cmap(b)[2]*255),0.2)"
   ]
  },
  {
   "cell_type": "markdown",
   "metadata": {},
   "source": [
    "## Compute positions with specific layout"
   ]
  },
  {
   "cell_type": "code",
   "execution_count": 215,
   "metadata": {},
   "outputs": [],
   "source": [
    "forceatlas2 = ForceAtlas2(\n",
    "                          # Behavior alternatives\n",
    "                          outboundAttractionDistribution=True,  # Dissuade hubs\n",
    "                          # Performance\n",
    "                          jitterTolerance=1.0,  # Tolerance\n",
    "                          barnesHutOptimize=True,\n",
    "                          barnesHutTheta=0.5,\n",
    "                          # Tuning\n",
    "                          scalingRatio=600.0,\n",
    "                          strongGravityMode=False,\n",
    "                          gravity=40.0,\n",
    "                          # Log\n",
    "                          verbose=False)"
   ]
  },
  {
   "cell_type": "code",
   "execution_count": 27,
   "metadata": {},
   "outputs": [],
   "source": [
    "def layout2(G, algorithm, fa=None):\n",
    "\t\"\"\"Function that apply a layout on graph and return the new positions of nodes\n",
    "\t\tG: the networkx graph.\n",
    "\t\talgorithm: kamada_kawai or ForceAtlas2\"\"\"\n",
    "\t\n",
    "\tpositions = {}\n",
    "\tif algorithm == 'kamada_kawai':\n",
    "\t\tpositions = nx.kamada_kawai_layout(G)\n",
    "\n",
    "\telif algorithm == 'ForceAtlas2' and fa != None:\n",
    "\t\t\"\"\"\n",
    "        Example for fa argument\n",
    "        forceatlas2 = ForceAtlas2(\n",
    "                          # Behavior alternatives\n",
    "                          outboundAttractionDistribution=False,  # Dissuade hubs\n",
    "                          # Performance\n",
    "                          jitterTolerance=1.0,  # Tolerance\n",
    "                          barnesHutOptimize=False,\n",
    "                          barnesHutTheta=1.2,\n",
    "                          # Tuning\n",
    "                          scalingRatio=5.0,\n",
    "                          strongGravityMode=False,\n",
    "                          gravity=50.0,\n",
    "                          # Log\n",
    "                          verbose=False)\"\"\"\n",
    "\t\tpositions = fa.forceatlas2_networkx_layout(G, pos=None, iterations=100)\n",
    "\treturn positions"
   ]
  },
  {
   "cell_type": "code",
   "execution_count": 216,
   "metadata": {},
   "outputs": [],
   "source": [
    "positions = layout2(G, algorithm='ForceAtlas2',fa=forceatlas2)"
   ]
  },
  {
   "cell_type": "code",
   "execution_count": 217,
   "metadata": {},
   "outputs": [],
   "source": [
    "x_mean = 0\n",
    "y_mean = 0\n",
    "x_std = 0\n",
    "y_std = 0\n",
    "for k,pos in positions.items():\n",
    "    x_mean += pos[0]\n",
    "    y_mean += pos[1]\n",
    "x_mean /= len(positions)\n",
    "y_mean /= len(positions)\n",
    "\n",
    "for k,pos in positions.items():\n",
    "    x_std += abs(pos[0]-x_mean)\n",
    "    y_std += abs(pos[1]-y_mean)\n",
    "\n",
    "x_std = np.sqrt(x_std/len(positions))\n",
    "y_std = np.sqrt(y_std/len(positions))"
   ]
  },
  {
   "cell_type": "code",
   "execution_count": 218,
   "metadata": {},
   "outputs": [],
   "source": [
    "#positions = nx.spring_layout(G,center=[0,0],seed=0)"
   ]
  },
  {
   "cell_type": "code",
   "execution_count": 219,
   "metadata": {},
   "outputs": [],
   "source": [
    "filtered_pages['coord'] = filtered_pages['article'].map(positions)"
   ]
  },
  {
   "cell_type": "markdown",
   "metadata": {},
   "source": [
    "## Normalize user activity"
   ]
  },
  {
   "cell_type": "code",
   "execution_count": 32,
   "metadata": {},
   "outputs": [],
   "source": [
    "user_activity_df = create_df_activity(user_activity_dict)"
   ]
  },
  {
   "cell_type": "raw",
   "metadata": {},
   "source": [
    "user_activity_df.to_pickle(\"./Data/diseases/activity_\"+s.strftime(\"%Y-%m-%d\")+\"_\"+e.strftime(\"%Y-%m-%d\")+\"_\"+granularity+\".pkle\")"
   ]
  },
  {
   "cell_type": "raw",
   "metadata": {},
   "source": [
    "user_activity_df = pd.read_pickle(\"./Data/diseases/activity_\"+s.strftime(\"%Y-%m-%d\")+\"_\"+e.strftime(\"%Y-%m-%d\")+\"_\"+granularity+\".pkle\")"
   ]
  },
  {
   "cell_type": "code",
   "execution_count": 33,
   "metadata": {},
   "outputs": [],
   "source": [
    "normalized_user_activity_df = normalize_activity(user_activity_df, factor=30, byColumn=False)"
   ]
  },
  {
   "cell_type": "code",
   "execution_count": 34,
   "metadata": {},
   "outputs": [],
   "source": [
    "# Create dataframe that contain the mean of each line\n",
    "user_activity_df_mean = normalized_user_activity_df.copy()\n",
    "user_activity_df_mean['mean'] = user_activity_df_mean.mean(axis=1)\n",
    "user_activity_df_mean['std'] = normalized_user_activity_df.std(axis=1)"
   ]
  },
  {
   "cell_type": "markdown",
   "metadata": {},
   "source": [
    "## Add French names"
   ]
  },
  {
   "cell_type": "code",
   "execution_count": 36,
   "metadata": {},
   "outputs": [
    {
     "data": {
      "application/vnd.jupyter.widget-view+json": {
       "model_id": "d2964497a8b9478fa34e28c9b5204aa6",
       "version_major": 2,
       "version_minor": 0
      },
      "text/plain": [
       "HBox(children=(IntProgress(value=0, max=1385), HTML(value='')))"
      ]
     },
     "metadata": {},
     "output_type": "display_data"
    }
   ],
   "source": [
    "timer = time.localtime(time.time())\n",
    "requests_ = 0\n",
    "requests_tot = 0\n",
    "language_code = \"fr\"\n",
    "lang_dict = {}\n",
    "user_activity_dict_fr = {}\n",
    "\n",
    "for index,row in tqdm_notebook(filtered_pages.iterrows(),total = filtered_pages.shape[0]):\n",
    "    requests_ +=2\n",
    "    requests_tot+=2\n",
    "    new_title = getArticleName(row['article'],language_code)\n",
    "    found = False\n",
    "    if new_title != \"\":\n",
    "        values = getUserActivity(article=new_title,project=language_code+\".wikipedia.org\",granularity=granularity,start=s,end=e)\n",
    "        if not((len(values) <= int(monthdelta(s,e) - 1) and granularity == 'monthly') or (len(values) <= int((e - s).days) and granularity == 'daily')):\n",
    "            user_activity_dict_fr[index] = values\n",
    "            lang_dict[row['article']] = new_title\n",
    "            found = True\n",
    "    \n",
    "    if not found:\n",
    "        lang_dict[row['article']] = \"unknown\"\n",
    "        "
   ]
  },
  {
   "cell_type": "code",
   "execution_count": 37,
   "metadata": {},
   "outputs": [],
   "source": [
    "filtered_pages['article_'+language_code] = filtered_pages['article'].map(lang_dict)"
   ]
  },
  {
   "cell_type": "code",
   "execution_count": 38,
   "metadata": {},
   "outputs": [],
   "source": [
    "user_activity_df_fr = create_df_activity(user_activity_dict_fr)"
   ]
  },
  {
   "cell_type": "code",
   "execution_count": 39,
   "metadata": {},
   "outputs": [],
   "source": [
    "normalized_user_activity_df_fr = normalize_activity(user_activity_df_fr, factor=30, byColumn=False)"
   ]
  },
  {
   "cell_type": "code",
   "execution_count": 40,
   "metadata": {},
   "outputs": [],
   "source": [
    "user_activity_df_mean_fr = normalized_user_activity_df_fr.copy()\n",
    "user_activity_df_mean_fr['mean'] = user_activity_df_mean_fr.mean(axis=1)\n",
    "user_activity_df_mean_fr['std'] = normalized_user_activity_df_fr.std(axis=1)"
   ]
  },
  {
   "cell_type": "code",
   "execution_count": 41,
   "metadata": {},
   "outputs": [
    {
     "data": {
      "text/html": [
       "<div>\n",
       "<style scoped>\n",
       "    .dataframe tbody tr th:only-of-type {\n",
       "        vertical-align: middle;\n",
       "    }\n",
       "\n",
       "    .dataframe tbody tr th {\n",
       "        vertical-align: top;\n",
       "    }\n",
       "\n",
       "    .dataframe thead th {\n",
       "        text-align: right;\n",
       "    }\n",
       "</style>\n",
       "<table border=\"1\" class=\"dataframe\">\n",
       "  <thead>\n",
       "    <tr style=\"text-align: right;\">\n",
       "      <th></th>\n",
       "      <th>article</th>\n",
       "      <th>isRedirect</th>\n",
       "      <th>isNew</th>\n",
       "      <th>coord</th>\n",
       "      <th>article_fr</th>\n",
       "    </tr>\n",
       "    <tr>\n",
       "      <th>id</th>\n",
       "      <th></th>\n",
       "      <th></th>\n",
       "      <th></th>\n",
       "      <th></th>\n",
       "      <th></th>\n",
       "    </tr>\n",
       "  </thead>\n",
       "  <tbody>\n",
       "    <tr>\n",
       "      <th>1776</th>\n",
       "      <td>Arthritis</td>\n",
       "      <td>False</td>\n",
       "      <td>False</td>\n",
       "      <td>(2621.572990998913, 2159.9047774845385)</td>\n",
       "      <td>Arthrite</td>\n",
       "    </tr>\n",
       "  </tbody>\n",
       "</table>\n",
       "</div>"
      ],
      "text/plain": [
       "        article  isRedirect  isNew                                    coord  \\\n",
       "id                                                                            \n",
       "1776  Arthritis       False  False  (2621.572990998913, 2159.9047774845385)   \n",
       "\n",
       "     article_fr  \n",
       "id               \n",
       "1776   Arthrite  "
      ]
     },
     "execution_count": 41,
     "metadata": {},
     "output_type": "execute_result"
    }
   ],
   "source": [
    "filtered_pages.loc[filtered_pages['article_fr'] == \"Arthrite\"]"
   ]
  },
  {
   "cell_type": "markdown",
   "metadata": {},
   "source": [
    "## Build Final JSON"
   ]
  },
  {
   "cell_type": "code",
   "execution_count": 42,
   "metadata": {},
   "outputs": [
    {
     "data": {
      "text/plain": [
       "article                      Inclusion_body_myositis\n",
       "isRedirect                                     False\n",
       "isNew                                          False\n",
       "coord         (113.6733567498928, 2310.434146286453)\n",
       "article_fr                                   unknown\n",
       "Name: 15538, dtype: object"
      ]
     },
     "execution_count": 42,
     "metadata": {},
     "output_type": "execute_result"
    }
   ],
   "source": [
    "filtered_pages.loc[15538]"
   ]
  },
  {
   "cell_type": "code",
   "execution_count": 43,
   "metadata": {},
   "outputs": [],
   "source": [
    "def parse_article_title(title):\n",
    "    return urllib.parse.unquote(title).replace('_',' ')\n",
    "def parse_color(color):\n",
    "    return \"rgba\"+str(color).replace(' ','')"
   ]
  },
  {
   "cell_type": "code",
   "execution_count": 220,
   "metadata": {},
   "outputs": [],
   "source": [
    "graph_data = { 'nodes': [], 'edges': [] }\n",
    "\n",
    "for i,row in filtered_pages.iterrows():\n",
    "    \n",
    "    x,y = w_stye_coordinate()\n",
    "    \n",
    "    to_be_added = {}\n",
    "    for j in range(len(normalized_user_activity_df.loc[i])):\n",
    "        to_be_added[str(j)+\"_size\"] = normalized_user_activity_df.loc[i][j]\n",
    "        if row['article_fr'] != \"unknown\":\n",
    "            to_be_added[str(j)+\"_size_fr\"] = normalized_user_activity_df_fr.loc[i][j]\n",
    "\n",
    "    to_be_added['label'] = parse_article_title(row['article'])\n",
    "    to_be_added['label_en'] = parse_article_title(row['article'])\n",
    "    to_be_added['label_fr'] = parse_article_title(row['article_fr'])\n",
    "    to_be_added['x'] = x\n",
    "    to_be_added[\"y\"] = y\n",
    "    to_be_added[\"id\"]= parse_article_title(row['article'])\n",
    "    to_be_added['id_en'] = parse_article_title(row['article'])\n",
    "    to_be_added['id_fr'] = parse_article_title(row['article_fr'])\n",
    "    to_be_added[\"attributes\"]= {\"category\":'Unknown'}\n",
    "    to_be_added[\"user_activity\"]= user_activity_dict[i]\n",
    "    if row['article_fr'] != \"unknown\":\n",
    "        to_be_added[\"user_activity_fr\"]= user_activity_dict_fr[i]\n",
    "        to_be_added[\"activity_mean_fr\"]= user_activity_df_mean_fr.loc[i]['mean']\n",
    "        to_be_added[\"activity_std_fr\"]= user_activity_df_mean_fr.loc[i]['std']\n",
    "    to_be_added[\"color\"]= 'rgb(30,30,30)'\n",
    "    to_be_added[\"originalColor\"]= parse_color(color_dict[row['article']])\n",
    "    #\"size\": 0 if(user_activity_dict[i][0][0]==0) else (np.log(user_activity_dict[i][0][0]))\n",
    "    to_be_added[\"size\"]= 10\n",
    "    to_be_added[\"square_x\"]= x\n",
    "    to_be_added[\"square_y\"]= y\n",
    "    to_be_added[\"square_size\"]= 10\n",
    "    to_be_added[\"square_color\"]= 'rgb(30,30,30)'\n",
    "    to_be_added[\"correct_x\"]= (row['coord'][0] - x_mean)/x_std\n",
    "    to_be_added[\"correct_y\"]= (row['coord'][1] - y_mean)/y_std\n",
    "    to_be_added[\"correct_size\"]= normalized_user_activity_df.loc[i][0]\n",
    "    to_be_added[\"activity_mean\"]= user_activity_df_mean.loc[i]['mean']  \n",
    "    to_be_added[\"activity_std\"]= user_activity_df_mean.loc[i]['std']\n",
    "    \n",
    "    #to_be_added[\"correct_color\"]= row['color']\n",
    "    to_be_added[\"correct_color\"]= parse_color(color_dict[row['article']])\n",
    "    graph_data['nodes'].append(to_be_added)\n",
    "\n",
    "for i,row in filtered_links.iterrows():\n",
    "    graph_data['edges'].append({\n",
    "            \"id\": str(i),\n",
    "            \"source\": parse_article_title(row['linkSource']),\n",
    "            \"target\": parse_article_title(row['linkTarget']),\n",
    "            \"attributes\" : {},\n",
    "            \"color\": parse_color(color_dict_edge[row['linkSource']]),\n",
    "            \"originalColor\": parse_color(color_dict_edge[row['linkSource']]),\n",
    "            #\"color\": \"rgb(30,30,30)\",\n",
    "            #\"originalColor\": \"rgb(30,30,30)\",\n",
    "            \"size\": 0.1,\n",
    "            \"type\": 'curve'\n",
    "        })"
   ]
  },
  {
   "cell_type": "code",
   "execution_count": 221,
   "metadata": {},
   "outputs": [],
   "source": [
    "save_graph_json('../raffiot.github.io/raffiot.github.io/diseases/diseases_2depth_en_fr.json',graph_data)"
   ]
  },
  {
   "cell_type": "raw",
   "metadata": {},
   "source": [
    "filtered_pages.to_pickle(\"./Data/diseases/filtered_pages_\"+s.strftime(\"%Y-%m-%d\")+\"_\"+e.strftime(\"%Y-%m-%d\")+\"_\"+granularity+\".pkle\")"
   ]
  },
  {
   "cell_type": "markdown",
   "metadata": {},
   "source": [
    "filtered_links.to_pickle(\"./Data/diseases/filtered_links_\"+s.strftime(\"%Y-%m-%d\")+\"_\"+e.strftime(\"%Y-%m-%d\")+\"_\"+granularity+\".pkle\")"
   ]
  },
  {
   "cell_type": "code",
   "execution_count": 46,
   "metadata": {},
   "outputs": [
    {
     "data": {
      "text/plain": [
       "20460"
      ]
     },
     "execution_count": 46,
     "metadata": {},
     "output_type": "execute_result"
    }
   ],
   "source": [
    "len(filtered_links)"
   ]
  },
  {
   "cell_type": "markdown",
   "metadata": {},
   "source": [
    "## Analysis"
   ]
  },
  {
   "cell_type": "code",
   "execution_count": 47,
   "metadata": {},
   "outputs": [],
   "source": [
    "from matplotlib.pyplot import figure"
   ]
  },
  {
   "cell_type": "markdown",
   "metadata": {},
   "source": [
    "### Maladie de Sanfillipo"
   ]
  },
  {
   "cell_type": "code",
   "execution_count": 48,
   "metadata": {},
   "outputs": [],
   "source": [
    "sf = filtered_pages.loc[filtered_pages['article_fr'] == 'Maladie_de_Sanfilippo']"
   ]
  },
  {
   "cell_type": "code",
   "execution_count": 49,
   "metadata": {},
   "outputs": [],
   "source": [
    "sanfillipo_serie = user_activity_dict_fr[sf.index[0]]"
   ]
  },
  {
   "cell_type": "code",
   "execution_count": 50,
   "metadata": {},
   "outputs": [],
   "source": [
    "def transform_activity(serie):\n",
    "    x = []\n",
    "    y = []\n",
    "    for i in serie:\n",
    "        x.append(i[1][0:7])\n",
    "        y.append(i[0])\n",
    "    return x,y"
   ]
  },
  {
   "cell_type": "code",
   "execution_count": 51,
   "metadata": {},
   "outputs": [],
   "source": [
    "x,y = transform_activity(sanfillipo_serie)"
   ]
  },
  {
   "cell_type": "code",
   "execution_count": 52,
   "metadata": {},
   "outputs": [
    {
     "data": {
      "image/png": "[encoded data removed]",
      "text/plain": [
       "<Figure size 1200x480 with 1 Axes>"
      ]
     },
     "metadata": {},
     "output_type": "display_data"
    }
   ],
   "source": [
    "figure(num=None, figsize=(15, 6), dpi=80, facecolor='w', edgecolor='k')\n",
    "plt.xticks(rotation=90)\n",
    "plt.bar(x,y)\n",
    "plt.savefig(\"../raffiot.github.io/raffiot.github.io/images/sanfilippo\")\n",
    "#plt.show()"
   ]
  },
  {
   "cell_type": "code",
   "execution_count": 53,
   "metadata": {},
   "outputs": [],
   "source": [
    "activity_peak = sanfillipo_serie[-2]"
   ]
  },
  {
   "cell_type": "code",
   "execution_count": 54,
   "metadata": {},
   "outputs": [
    {
     "data": {
      "text/plain": [
       "[124623, '2018-09-01T00:00:00']"
      ]
     },
     "execution_count": 54,
     "metadata": {},
     "output_type": "execute_result"
    }
   ],
   "source": [
    "activity_peak"
   ]
  },
  {
   "cell_type": "code",
   "execution_count": 55,
   "metadata": {},
   "outputs": [
    {
     "data": {
      "text/plain": [
       "5099.083333333333"
      ]
     },
     "execution_count": 55,
     "metadata": {},
     "output_type": "execute_result"
    }
   ],
   "source": [
    "np.mean(y)"
   ]
  },
  {
   "cell_type": "code",
   "execution_count": 56,
   "metadata": {},
   "outputs": [
    {
     "data": {
      "text/plain": [
       "24.44027521286506"
      ]
     },
     "execution_count": 56,
     "metadata": {},
     "output_type": "execute_result"
    }
   ],
   "source": [
    "activity_peak[0]/np.mean(y)"
   ]
  },
  {
   "cell_type": "markdown",
   "metadata": {},
   "source": [
    "### Gastro etc..."
   ]
  },
  {
   "cell_type": "markdown",
   "metadata": {},
   "source": [
    "In french we observe the patern"
   ]
  },
  {
   "cell_type": "code",
   "execution_count": 154,
   "metadata": {},
   "outputs": [
    {
     "data": {
      "text/html": [
       "<div>\n",
       "<style scoped>\n",
       "    .dataframe tbody tr th:only-of-type {\n",
       "        vertical-align: middle;\n",
       "    }\n",
       "\n",
       "    .dataframe tbody tr th {\n",
       "        vertical-align: top;\n",
       "    }\n",
       "\n",
       "    .dataframe thead th {\n",
       "        text-align: right;\n",
       "    }\n",
       "</style>\n",
       "<table border=\"1\" class=\"dataframe\">\n",
       "  <thead>\n",
       "    <tr style=\"text-align: right;\">\n",
       "      <th></th>\n",
       "      <th>article</th>\n",
       "      <th>isRedirect</th>\n",
       "      <th>isNew</th>\n",
       "      <th>coord</th>\n",
       "      <th>article_fr</th>\n",
       "    </tr>\n",
       "    <tr>\n",
       "      <th>id</th>\n",
       "      <th></th>\n",
       "      <th></th>\n",
       "      <th></th>\n",
       "      <th></th>\n",
       "      <th></th>\n",
       "    </tr>\n",
       "  </thead>\n",
       "  <tbody>\n",
       "    <tr>\n",
       "      <th>903516</th>\n",
       "      <td>Tonsillitis</td>\n",
       "      <td>False</td>\n",
       "      <td>False</td>\n",
       "      <td>(4133.4332696435085, 3781.8728377623434)</td>\n",
       "      <td>Angine</td>\n",
       "    </tr>\n",
       "  </tbody>\n",
       "</table>\n",
       "</div>"
      ],
      "text/plain": [
       "            article  isRedirect  isNew  \\\n",
       "id                                       \n",
       "903516  Tonsillitis       False  False   \n",
       "\n",
       "                                           coord article_fr  \n",
       "id                                                           \n",
       "903516  (4133.4332696435085, 3781.8728377623434)     Angine  "
      ]
     },
     "execution_count": 154,
     "metadata": {},
     "output_type": "execute_result"
    }
   ],
   "source": [
    "filtered_pages.loc[filtered_pages['article'] == 'Tonsillitis']"
   ]
  },
  {
   "cell_type": "code",
   "execution_count": 153,
   "metadata": {},
   "outputs": [
    {
     "data": {
      "text/html": [
       "<div>\n",
       "<style scoped>\n",
       "    .dataframe tbody tr th:only-of-type {\n",
       "        vertical-align: middle;\n",
       "    }\n",
       "\n",
       "    .dataframe tbody tr th {\n",
       "        vertical-align: top;\n",
       "    }\n",
       "\n",
       "    .dataframe thead th {\n",
       "        text-align: right;\n",
       "    }\n",
       "</style>\n",
       "<table border=\"1\" class=\"dataframe\">\n",
       "  <thead>\n",
       "    <tr style=\"text-align: right;\">\n",
       "      <th></th>\n",
       "      <th>article</th>\n",
       "      <th>isRedirect</th>\n",
       "      <th>isNew</th>\n",
       "      <th>coord</th>\n",
       "      <th>article_fr</th>\n",
       "    </tr>\n",
       "    <tr>\n",
       "      <th>id</th>\n",
       "      <th></th>\n",
       "      <th></th>\n",
       "      <th></th>\n",
       "      <th></th>\n",
       "      <th></th>\n",
       "    </tr>\n",
       "  </thead>\n",
       "  <tbody>\n",
       "    <tr>\n",
       "      <th>302755</th>\n",
       "      <td>Acute_bronchitis</td>\n",
       "      <td>False</td>\n",
       "      <td>False</td>\n",
       "      <td>(4334.745940315789, -975.9583666884442)</td>\n",
       "      <td>Bronchite_aigu%C3%AB</td>\n",
       "    </tr>\n",
       "  </tbody>\n",
       "</table>\n",
       "</div>"
      ],
      "text/plain": [
       "                 article  isRedirect  isNew  \\\n",
       "id                                            \n",
       "302755  Acute_bronchitis       False  False   \n",
       "\n",
       "                                          coord            article_fr  \n",
       "id                                                                     \n",
       "302755  (4334.745940315789, -975.9583666884442)  Bronchite_aigu%C3%AB  "
      ]
     },
     "execution_count": 153,
     "metadata": {},
     "output_type": "execute_result"
    }
   ],
   "source": [
    "filtered_pages.loc[filtered_pages['article'] == 'Acute_bronchitis']"
   ]
  },
  {
   "cell_type": "code",
   "execution_count": 157,
   "metadata": {},
   "outputs": [],
   "source": [
    "angine = filtered_pages.loc[filtered_pages['article'] == 'Tonsillitis']\n",
    "rhume = filtered_pages.loc[filtered_pages['article_fr'] == 'Rhume']\n",
    "bronch = filtered_pages.loc[filtered_pages['article'] == 'Acute_bronchitis']"
   ]
  },
  {
   "cell_type": "code",
   "execution_count": 158,
   "metadata": {},
   "outputs": [],
   "source": [
    "angine_serie = user_activity_dict_fr[angine.index[0]]\n",
    "rhume_serie = user_activity_dict_fr[rhume.index[0]]\n",
    "bronch_serie = user_activity_dict_fr[bronch.index[0]]"
   ]
  },
  {
   "cell_type": "code",
   "execution_count": 159,
   "metadata": {},
   "outputs": [],
   "source": [
    "x2,y2 = transform_activity(angine_serie)\n",
    "x2,y4 = transform_activity(rhume_serie)\n",
    "x2,y5 = transform_activity(bronch_serie)"
   ]
  },
  {
   "cell_type": "code",
   "execution_count": 174,
   "metadata": {},
   "outputs": [
    {
     "data": {
      "image/png": "[encoded data removed]",
      "text/plain": [
       "<Figure size 1080x360 with 1 Axes>"
      ]
     },
     "metadata": {
      "needs_background": "light"
     },
     "output_type": "display_data"
    }
   ],
   "source": [
    "fig, ax = plt.subplots()\n",
    "fig.set_size_inches((15,5))\n",
    "plt.xticks(rotation=90)\n",
    "angine_ax = ax.bar(x, y2,width=0.5,color='b')\n",
    "rhume_ax = ax.bar(x, y5,width=0.5,color='g')\n",
    "#bronch_ax = ax.bar(x, y5,width=0.5,color='r')\n",
    "ax.legend((angine_ax[0], rhume_ax[0], bronch_ax[0]), ('Angine','Rhume'))\n",
    "#plt.show()\n",
    "plt.savefig(\"../raffiot.github.io/raffiot.github.io/images/winter_diseases\")"
   ]
  },
  {
   "cell_type": "code",
   "execution_count": 71,
   "metadata": {},
   "outputs": [
    {
     "ename": "TypeError",
     "evalue": "unsupported operand type(s) for +: 'range' and 'int'",
     "output_type": "error",
     "traceback": [
      "\u001b[1;31m---------------------------------------------------------------------------\u001b[0m",
      "\u001b[1;31mTypeError\u001b[0m                                 Traceback (most recent call last)",
      "\u001b[1;32m<ipython-input-71-588df9cc41b3>\u001b[0m in \u001b[0;36m<module>\u001b[1;34m\u001b[0m\n\u001b[1;32m----> 1\u001b[1;33m \u001b[0mrange\u001b[0m\u001b[1;33m(\u001b[0m\u001b[1;36m0\u001b[0m\u001b[1;33m,\u001b[0m\u001b[0mlen\u001b[0m\u001b[1;33m(\u001b[0m\u001b[0mx\u001b[0m\u001b[1;33m)\u001b[0m\u001b[1;33m)\u001b[0m \u001b[1;33m+\u001b[0m \u001b[0mwidth\u001b[0m\u001b[1;33m\u001b[0m\u001b[0m\n\u001b[0m",
      "\u001b[1;31mTypeError\u001b[0m: unsupported operand type(s) for +: 'range' and 'int'"
     ]
    }
   ],
   "source": [
    "new_list = [x+width for x in my_list]"
   ]
  },
  {
   "cell_type": "code",
   "execution_count": 79,
   "metadata": {},
   "outputs": [
    {
     "data": {
      "text/plain": [
       "range(1, 37)"
      ]
     },
     "execution_count": 79,
     "metadata": {},
     "output_type": "execute_result"
    }
   ],
   "source": [
    "range(width,len(x)+width)"
   ]
  },
  {
   "cell_type": "code",
   "execution_count": 78,
   "metadata": {},
   "outputs": [
    {
     "data": {
      "text/plain": [
       "range(0, 36)"
      ]
     },
     "execution_count": 78,
     "metadata": {},
     "output_type": "execute_result"
    }
   ],
   "source": [
    "range(0,len(x))"
   ]
  },
  {
   "cell_type": "code",
   "execution_count": 84,
   "metadata": {},
   "outputs": [],
   "source": [
    "a = np.arange(len(x))"
   ]
  },
  {
   "cell_type": "code",
   "execution_count": 94,
   "metadata": {},
   "outputs": [
    {
     "ename": "SyntaxError",
     "evalue": "positional argument follows keyword argument (<ipython-input-94-b416af3045b7>, line 2)",
     "output_type": "error",
     "traceback": [
      "\u001b[1;36m  File \u001b[1;32m\"<ipython-input-94-b416af3045b7>\"\u001b[1;36m, line \u001b[1;32m2\u001b[0m\n\u001b[1;33m    plt.bar(range(len(my_dict)), my_dict.values(), align='edge', width)\u001b[0m\n\u001b[1;37m                                                                ^\u001b[0m\n\u001b[1;31mSyntaxError\u001b[0m\u001b[1;31m:\u001b[0m positional argument follows keyword argument\n"
     ]
    }
   ],
   "source": [
    "plt.figure(figsize=(20, 3))  # width:20, height:3\n",
    "plt.bar(range(len(my_dict)), my_dict.values(), align='edge', width)"
   ]
  },
  {
   "cell_type": "code",
   "execution_count": 112,
   "metadata": {},
   "outputs": [
    {
     "data": {
      "image/png": "[encoded data removed]",
      "text/plain": [
       "<Figure size 1080x360 with 1 Axes>"
      ]
     },
     "metadata": {
      "needs_background": "light"
     },
     "output_type": "display_data"
    }
   ],
   "source": [
    "fig, ax = plt.subplots()\n",
    "width = 0.3\n",
    "fig.set_size_inches((15,5))\n",
    "ax.bar(a, y2, width, align = 'center')\n",
    "ax.bar(a+width, y4, width, align = 'center')\n",
    "ax.set_xticks(a + width / 2)\n",
    "ax.set_xticklabels(x)\n",
    "plt.xticks(rotation=90)\n",
    "#ax.set_xticks(range(0,len(x))) # sets the x-ticks to the middle of the cluster of bars\n",
    "#ax.xaxis_date()\n",
    "plt.show()"
   ]
  },
  {
   "cell_type": "markdown",
   "metadata": {},
   "source": [
    "In english"
   ]
  },
  {
   "cell_type": "code",
   "execution_count": 169,
   "metadata": {},
   "outputs": [],
   "source": [
    "angine_serie_en = user_activity_dict[angine.index[0]]\n",
    "rhume_serie_en = user_activity_dict[rhume.index[0]]\n",
    "bronch_serie_en = user_activity_dict[bronch.index[0]]"
   ]
  },
  {
   "cell_type": "code",
   "execution_count": 170,
   "metadata": {},
   "outputs": [],
   "source": [
    "x2,y6 = transform_activity(angine_serie_en)\n",
    "x2,y7 = transform_activity(rhume_serie_en)\n",
    "x2,y8 = transform_activity(bronch_serie_en)"
   ]
  },
  {
   "cell_type": "code",
   "execution_count": 172,
   "metadata": {},
   "outputs": [
    {
     "data": {
      "image/png": "[encoded data removed]",
      "text/plain": [
       "<Figure size 1080x360 with 1 Axes>"
      ]
     },
     "metadata": {
      "needs_background": "light"
     },
     "output_type": "display_data"
    }
   ],
   "source": [
    "fig, ax = plt.subplots()\n",
    "fig.set_size_inches((15,5))\n",
    "plt.xticks(rotation=90)\n",
    "angine_ax = ax.bar(x, y6,width=0.5,color='b')\n",
    "rhume_ax = ax.bar(x, y7,width=0.5,color='g')\n",
    "#bronch_ax = ax.bar(x, y5,width=0.5,color='r')\n",
    "ax.legend((angine_ax[0], rhume_ax[0]), ('Tonsillitis','Common cold'))\n",
    "#plt.show()\n",
    "plt.savefig(\"../raffiot.github.io/raffiot.github.io/images/winter_diseases_en\")"
   ]
  },
  {
   "cell_type": "code",
   "execution_count": null,
   "metadata": {},
   "outputs": [],
   "source": []
  },
  {
   "cell_type": "code",
   "execution_count": 210,
   "metadata": {},
   "outputs": [],
   "source": [
    "personnes =[\n",
    "    (\"Grand papa\",\"M\"),\n",
    "    (\"Mamie\",'F'),\n",
    "    (\"Felix\",'M'),\n",
    "    (\"Agnes\",'F'),\n",
    "    (\"Pierre-Jean\", 'M', 'eve'),\n",
    "    (\"Eva\",'F'),\n",
    "    (\"Eve\",'F'),\n",
    "    (\"Marc\",'M'),\n",
    "    (\"Christophe\",'M'),\n",
    "    (\"Paul\",'M'),\n",
    "    (\"Raphael\",'M')\n",
    "]"
   ]
  },
  {
   "cell_type": "code",
   "execution_count": 189,
   "metadata": {},
   "outputs": [],
   "source": [
    "copy_personne = {}\n",
    "for k,v in personnes.items():\n",
    "    copy_personne[k]= v"
   ]
  },
  {
   "cell_type": "code",
   "execution_count": 211,
   "metadata": {},
   "outputs": [],
   "source": [
    "def assigner_personne(current_p,list_):\n",
    "    if len(list_) == 1:\n",
    "        return list_[0]\n",
    "    else:\n",
    "        for i,p in enumerate(list_):\n",
    "            if current_p == None or current_p[1] != p[1]:\n",
    "                assigned = assigner_personne(p,list_[:i] + list_[i+1:])\n",
    "                print(assigned)\n",
    "                return p\n",
    "    print(\"impossible\")"
   ]
  },
  {
   "cell_type": "code",
   "execution_count": 212,
   "metadata": {},
   "outputs": [
    {
     "name": "stdout",
     "output_type": "stream",
     "text": [
      "impossible\n",
      "None\n",
      "('Christophe', 'M')\n",
      "('Eve', 'F')\n",
      "('Marc', 'M')\n",
      "('Eva', 'F')\n",
      "('Pierre-Jean', 'M', 'eve')\n",
      "('Agnes', 'F')\n",
      "('Felix', 'M')\n",
      "('Mamie', 'F')\n"
     ]
    },
    {
     "data": {
      "text/plain": [
       "('Grand papa', 'M')"
      ]
     },
     "execution_count": 212,
     "metadata": {},
     "output_type": "execute_result"
    }
   ],
   "source": [
    "assigner_personne(None,personnes)        "
   ]
  },
  {
   "cell_type": "code",
   "execution_count": null,
   "metadata": {},
   "outputs": [],
   "source": []
  }
 ],
 "metadata": {
  "kernelspec": {
   "display_name": "Python 3",
   "language": "python",
   "name": "python3"
  },
  "language_info": {
   "codemirror_mode": {
    "name": "ipython",
    "version": 3
   },
   "file_extension": ".py",
   "mimetype": "text/x-python",
   "name": "python",
   "nbconvert_exporter": "python",
   "pygments_lexer": "ipython3",
   "version": "3.6.6"
  },
  "toc": {
   "nav_menu": {},
   "number_sections": true,
   "sideBar": true,
   "skip_h1_title": false,
   "title_cell": "Table of Contents",
   "title_sidebar": "Contents",
   "toc_cell": false,
   "toc_position": {},
   "toc_section_display": true,
   "toc_window_display": false
  }
 },
 "nbformat": 4,
 "nbformat_minor": 2
}
